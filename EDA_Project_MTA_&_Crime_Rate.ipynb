{
  "nbformat": 4,
  "nbformat_minor": 0,
  "metadata": {
    "colab": {
      "name": "EDA_Project_MTA_&_Crime_Rate.ipynb",
      "provenance": [],
      "collapsed_sections": [],
      "authorship_tag": "ABX9TyP44+w5uNiO4B+NqSo5pD3b",
      "include_colab_link": true
    },
    "kernelspec": {
      "name": "python3",
      "display_name": "Python 3"
    },
    "language_info": {
      "name": "python"
    }
  },
  "cells": [
    {
      "cell_type": "markdown",
      "metadata": {
        "id": "view-in-github",
        "colab_type": "text"
      },
      "source": [
        "<a href=\"https://colab.research.google.com/github/amena-ss/EDA_Project/blob/main/EDA_Project_MTA_%26_Crime_Rate.ipynb\" target=\"_parent\"><img src=\"https://colab.research.google.com/assets/colab-badge.svg\" alt=\"Open In Colab\"/></a>"
      ]
    },
    {
      "cell_type": "code",
      "metadata": {
        "id": "JzH5SIBwAewd"
      },
      "source": [
        "import numpy as np\n",
        "import pandas as pd"
      ],
      "execution_count": null,
      "outputs": []
    },
    {
      "cell_type": "code",
      "metadata": {
        "id": "v6GOiljTokey"
      },
      "source": [
        ""
      ],
      "execution_count": null,
      "outputs": []
    },
    {
      "cell_type": "code",
      "metadata": {
        "id": "uqT5lilNAivZ"
      },
      "source": [
        "import seaborn as sns\n",
        "%matplotlib inline\n",
        "import matplotlib\n",
        "import matplotlib.pyplot as plt\n",
        "from datetime import datetime, timedelta"
      ],
      "execution_count": null,
      "outputs": []
    },
    {
      "cell_type": "code",
      "metadata": {
        "id": "keHx1Pd_y92E"
      },
      "source": [
        "def get_data(week_nums):\n",
        "    url = \"http://web.mta.info/developers/data/nyct/turnstile/turnstile_{}.txt\"\n",
        "    dfs = []\n",
        "    for week_num in week_nums:\n",
        "        file_url = url.format(week_num)\n",
        "        dfs.append(pd.read_csv(file_url))\n",
        "    return pd.concat(dfs)\n",
        "    \n",
        "week_nums = [201003, 201010, 201017, 201024, 201031, 201107, 201114, 201121, 201128, 201205, 201212, 201219, 201226]\n",
        "turnstiles_df = get_data(week_nums)"
      ],
      "execution_count": null,
      "outputs": []
    },
    {
      "cell_type": "code",
      "metadata": {
        "colab": {
          "base_uri": "https://localhost:8080/"
        },
        "id": "itckPW7-IPuq",
        "outputId": "8082690a-5f9b-4fd9-e3f7-48ecd31d9dee"
      },
      "source": [
        "turnstiles_df.info()"
      ],
      "execution_count": null,
      "outputs": [
        {
          "output_type": "stream",
          "name": "stdout",
          "text": [
            "<class 'pandas.core.frame.DataFrame'>\n",
            "Int64Index: 2738673 entries, 0 to 212298\n",
            "Data columns (total 11 columns):\n",
            " #   Column                                                                Dtype \n",
            "---  ------                                                                ----- \n",
            " 0   C/A                                                                   object\n",
            " 1   UNIT                                                                  object\n",
            " 2   SCP                                                                   object\n",
            " 3   STATION                                                               object\n",
            " 4   LINENAME                                                              object\n",
            " 5   DIVISION                                                              object\n",
            " 6   DATE                                                                  object\n",
            " 7   TIME                                                                  object\n",
            " 8   DESC                                                                  object\n",
            " 9   ENTRIES                                                               int64 \n",
            " 10  EXITS                                                                 int64 \n",
            "dtypes: int64(2), object(9)\n",
            "memory usage: 250.7+ MB\n"
          ]
        }
      ]
    },
    {
      "cell_type": "code",
      "metadata": {
        "colab": {
          "base_uri": "https://localhost:8080/"
        },
        "id": "pj22KcO8IS2Z",
        "outputId": "38f8413e-4e93-4cc2-cd02-149ba5f52382"
      },
      "source": [
        "turnstiles_df.describe"
      ],
      "execution_count": null,
      "outputs": [
        {
          "output_type": "execute_result",
          "data": {
            "text/plain": [
              "<bound method NDFrame.describe of           C/A  ... EXITS                                                               \n",
              "0        A002  ...                                            2538694                  \n",
              "1        A002  ...                                            2538697                  \n",
              "2        A002  ...                                            2538712                  \n",
              "3        A002  ...                                            2538767                  \n",
              "4        A002  ...                                            2538795                  \n",
              "...       ...  ...                                                ...                  \n",
              "212294  TRAM2  ...                                                541                  \n",
              "212295  TRAM2  ...                                                541                  \n",
              "212296  TRAM2  ...                                                541                  \n",
              "212297  TRAM2  ...                                                541                  \n",
              "212298  TRAM2  ...                                                541                  \n",
              "\n",
              "[2738673 rows x 11 columns]>"
            ]
          },
          "metadata": {},
          "execution_count": 44
        }
      ]
    },
    {
      "cell_type": "code",
      "metadata": {
        "colab": {
          "base_uri": "https://localhost:8080/",
          "height": 111
        },
        "id": "WolxNeLDwQ17",
        "outputId": "76844dc2-dcac-42fb-f3f3-401d3e691da9"
      },
      "source": [
        "turnstiles_df.corr()"
      ],
      "execution_count": null,
      "outputs": [
        {
          "output_type": "execute_result",
          "data": {
            "text/html": [
              "<div>\n",
              "<style scoped>\n",
              "    .dataframe tbody tr th:only-of-type {\n",
              "        vertical-align: middle;\n",
              "    }\n",
              "\n",
              "    .dataframe tbody tr th {\n",
              "        vertical-align: top;\n",
              "    }\n",
              "\n",
              "    .dataframe thead th {\n",
              "        text-align: right;\n",
              "    }\n",
              "</style>\n",
              "<table border=\"1\" class=\"dataframe\">\n",
              "  <thead>\n",
              "    <tr style=\"text-align: right;\">\n",
              "      <th></th>\n",
              "      <th>ENTRIES</th>\n",
              "      <th>EXITS</th>\n",
              "    </tr>\n",
              "  </thead>\n",
              "  <tbody>\n",
              "    <tr>\n",
              "      <th>ENTRIES</th>\n",
              "      <td>1.000000</td>\n",
              "      <td>0.782164</td>\n",
              "    </tr>\n",
              "    <tr>\n",
              "      <th>EXITS</th>\n",
              "      <td>0.782164</td>\n",
              "      <td>1.000000</td>\n",
              "    </tr>\n",
              "  </tbody>\n",
              "</table>\n",
              "</div>"
            ],
            "text/plain": [
              "                                                     ENTRIES  EXITS                                                               \n",
              "ENTRIES                                             1.000000                                           0.782164                   \n",
              "EXITS                                          ...  0.782164                                           1.000000                   "
            ]
          },
          "metadata": {},
          "execution_count": 45
        }
      ]
    },
    {
      "cell_type": "code",
      "metadata": {
        "colab": {
          "base_uri": "https://localhost:8080/",
          "height": 204
        },
        "id": "qQY_90DB0Hwa",
        "outputId": "184fd661-032b-4863-eda8-adf28bf2fff8"
      },
      "source": [
        "turnstiles_df.head()"
      ],
      "execution_count": null,
      "outputs": [
        {
          "output_type": "execute_result",
          "data": {
            "text/html": [
              "<div>\n",
              "<style scoped>\n",
              "    .dataframe tbody tr th:only-of-type {\n",
              "        vertical-align: middle;\n",
              "    }\n",
              "\n",
              "    .dataframe tbody tr th {\n",
              "        vertical-align: top;\n",
              "    }\n",
              "\n",
              "    .dataframe thead th {\n",
              "        text-align: right;\n",
              "    }\n",
              "</style>\n",
              "<table border=\"1\" class=\"dataframe\">\n",
              "  <thead>\n",
              "    <tr style=\"text-align: right;\">\n",
              "      <th></th>\n",
              "      <th>C/A</th>\n",
              "      <th>UNIT</th>\n",
              "      <th>SCP</th>\n",
              "      <th>STATION</th>\n",
              "      <th>LINENAME</th>\n",
              "      <th>DIVISION</th>\n",
              "      <th>DATE</th>\n",
              "      <th>TIME</th>\n",
              "      <th>DESC</th>\n",
              "      <th>ENTRIES</th>\n",
              "      <th>EXITS</th>\n",
              "    </tr>\n",
              "  </thead>\n",
              "  <tbody>\n",
              "    <tr>\n",
              "      <th>0</th>\n",
              "      <td>A002</td>\n",
              "      <td>R051</td>\n",
              "      <td>02-00-00</td>\n",
              "      <td>59 ST</td>\n",
              "      <td>NQR456W</td>\n",
              "      <td>BMT</td>\n",
              "      <td>09/26/2020</td>\n",
              "      <td>00:00:00</td>\n",
              "      <td>REGULAR</td>\n",
              "      <td>7463495</td>\n",
              "      <td>2538694</td>\n",
              "    </tr>\n",
              "    <tr>\n",
              "      <th>1</th>\n",
              "      <td>A002</td>\n",
              "      <td>R051</td>\n",
              "      <td>02-00-00</td>\n",
              "      <td>59 ST</td>\n",
              "      <td>NQR456W</td>\n",
              "      <td>BMT</td>\n",
              "      <td>09/26/2020</td>\n",
              "      <td>04:00:00</td>\n",
              "      <td>REGULAR</td>\n",
              "      <td>7463500</td>\n",
              "      <td>2538697</td>\n",
              "    </tr>\n",
              "    <tr>\n",
              "      <th>2</th>\n",
              "      <td>A002</td>\n",
              "      <td>R051</td>\n",
              "      <td>02-00-00</td>\n",
              "      <td>59 ST</td>\n",
              "      <td>NQR456W</td>\n",
              "      <td>BMT</td>\n",
              "      <td>09/26/2020</td>\n",
              "      <td>08:00:00</td>\n",
              "      <td>REGULAR</td>\n",
              "      <td>7463516</td>\n",
              "      <td>2538712</td>\n",
              "    </tr>\n",
              "    <tr>\n",
              "      <th>3</th>\n",
              "      <td>A002</td>\n",
              "      <td>R051</td>\n",
              "      <td>02-00-00</td>\n",
              "      <td>59 ST</td>\n",
              "      <td>NQR456W</td>\n",
              "      <td>BMT</td>\n",
              "      <td>09/26/2020</td>\n",
              "      <td>12:00:00</td>\n",
              "      <td>REGULAR</td>\n",
              "      <td>7463552</td>\n",
              "      <td>2538767</td>\n",
              "    </tr>\n",
              "    <tr>\n",
              "      <th>4</th>\n",
              "      <td>A002</td>\n",
              "      <td>R051</td>\n",
              "      <td>02-00-00</td>\n",
              "      <td>59 ST</td>\n",
              "      <td>NQR456W</td>\n",
              "      <td>BMT</td>\n",
              "      <td>09/26/2020</td>\n",
              "      <td>16:00:00</td>\n",
              "      <td>REGULAR</td>\n",
              "      <td>7463664</td>\n",
              "      <td>2538795</td>\n",
              "    </tr>\n",
              "  </tbody>\n",
              "</table>\n",
              "</div>"
            ],
            "text/plain": [
              "    C/A  ... EXITS                                                               \n",
              "0  A002  ...                                            2538694                  \n",
              "1  A002  ...                                            2538697                  \n",
              "2  A002  ...                                            2538712                  \n",
              "3  A002  ...                                            2538767                  \n",
              "4  A002  ...                                            2538795                  \n",
              "\n",
              "[5 rows x 11 columns]"
            ]
          },
          "metadata": {},
          "execution_count": 46
        }
      ]
    },
    {
      "cell_type": "code",
      "metadata": {
        "colab": {
          "base_uri": "https://localhost:8080/"
        },
        "id": "rGLjXKm4SiTT",
        "outputId": "89c26ecb-5455-415f-de2b-d4f94c8ee5c0"
      },
      "source": [
        "group_station = turnstiles_df.groupby('STATION')['ENTRIES'].sum().sort_values(ascending=False)\n",
        "group_station.head(10)\n",
        "\n",
        "#\"The first analysis was based on those data\""
      ],
      "execution_count": null,
      "outputs": [
        {
          "output_type": "execute_result",
          "data": {
            "text/plain": [
              "STATION\n",
              "42 ST-PORT AUTH    4140187576583\n",
              "DEKALB AV          3613632630509\n",
              "161/YANKEE STAD    3325900044112\n",
              "23 ST              3173370750957\n",
              "125 ST             3106303435598\n",
              "34 ST-PENN STA     2597012130391\n",
              "183 ST             2519637204514\n",
              "CANAL ST           2229617193893\n",
              "18 AV              2122419899320\n",
              "CHAMBERS ST        2110340692807\n",
              "Name: ENTRIES, dtype: int64"
            ]
          },
          "metadata": {},
          "execution_count": 47
        }
      ]
    },
    {
      "cell_type": "code",
      "metadata": {
        "colab": {
          "base_uri": "https://localhost:8080/"
        },
        "id": "SH_Gg8a_TGgL",
        "outputId": "a31c538b-7f80-4262-cc15-cd5eff3b8cfa"
      },
      "source": [
        "turnstiles_df.groupby(['UNIT','SCP'])['STATION'].nunique().sort_values()"
      ],
      "execution_count": null,
      "outputs": [
        {
          "output_type": "execute_result",
          "data": {
            "text/plain": [
              "UNIT  SCP     \n",
              "R001  00-00-00    1\n",
              "R270  00-05-00    1\n",
              "      00-00-03    1\n",
              "      00-00-02    1\n",
              "      00-00-01    1\n",
              "                 ..\n",
              "R112  01-06-01    1\n",
              "      01-06-00    1\n",
              "      01-05-01    1\n",
              "R113  00-00-04    1\n",
              "R572  01-03-04    1\n",
              "Name: STATION, Length: 5020, dtype: int64"
            ]
          },
          "metadata": {},
          "execution_count": 48
        }
      ]
    },
    {
      "cell_type": "code",
      "metadata": {
        "colab": {
          "base_uri": "https://localhost:8080/"
        },
        "id": "kuZFBjv31ApJ",
        "outputId": "a42c5cb0-7127-4f7b-d136-24b30bde4f15"
      },
      "source": [
        "turnstiles_df.DATE.value_counts().sort_index()"
      ],
      "execution_count": null,
      "outputs": [
        {
          "output_type": "execute_result",
          "data": {
            "text/plain": [
              "09/26/2020    29629\n",
              "09/27/2020    30061\n",
              "09/28/2020    31659\n",
              "09/29/2020    29552\n",
              "09/30/2020    29691\n",
              "              ...  \n",
              "12/21/2020    29727\n",
              "12/22/2020    30099\n",
              "12/23/2020    29871\n",
              "12/24/2020    30014\n",
              "12/25/2020    30150\n",
              "Name: DATE, Length: 91, dtype: int64"
            ]
          },
          "metadata": {},
          "execution_count": 49
        }
      ]
    },
    {
      "cell_type": "code",
      "metadata": {
        "colab": {
          "base_uri": "https://localhost:8080/",
          "height": 419
        },
        "id": "4D6MiyYtTvOV",
        "outputId": "e7e242b3-e216-4542-8488-ba2ca533f19e"
      },
      "source": [
        "turnstiles_df.sort_values(by=['DATE'])"
      ],
      "execution_count": null,
      "outputs": [
        {
          "output_type": "execute_result",
          "data": {
            "text/html": [
              "<div>\n",
              "<style scoped>\n",
              "    .dataframe tbody tr th:only-of-type {\n",
              "        vertical-align: middle;\n",
              "    }\n",
              "\n",
              "    .dataframe tbody tr th {\n",
              "        vertical-align: top;\n",
              "    }\n",
              "\n",
              "    .dataframe thead th {\n",
              "        text-align: right;\n",
              "    }\n",
              "</style>\n",
              "<table border=\"1\" class=\"dataframe\">\n",
              "  <thead>\n",
              "    <tr style=\"text-align: right;\">\n",
              "      <th></th>\n",
              "      <th>C/A</th>\n",
              "      <th>UNIT</th>\n",
              "      <th>SCP</th>\n",
              "      <th>STATION</th>\n",
              "      <th>LINENAME</th>\n",
              "      <th>DIVISION</th>\n",
              "      <th>DATE</th>\n",
              "      <th>TIME</th>\n",
              "      <th>DESC</th>\n",
              "      <th>ENTRIES</th>\n",
              "      <th>EXITS</th>\n",
              "    </tr>\n",
              "  </thead>\n",
              "  <tbody>\n",
              "    <tr>\n",
              "      <th>0</th>\n",
              "      <td>A002</td>\n",
              "      <td>R051</td>\n",
              "      <td>02-00-00</td>\n",
              "      <td>59 ST</td>\n",
              "      <td>NQR456W</td>\n",
              "      <td>BMT</td>\n",
              "      <td>09/26/2020</td>\n",
              "      <td>00:00:00</td>\n",
              "      <td>REGULAR</td>\n",
              "      <td>7463495</td>\n",
              "      <td>2538694</td>\n",
              "    </tr>\n",
              "    <tr>\n",
              "      <th>40669</th>\n",
              "      <td>J003</td>\n",
              "      <td>R352</td>\n",
              "      <td>00-03-00</td>\n",
              "      <td>HEWES ST</td>\n",
              "      <td>JM</td>\n",
              "      <td>BMT</td>\n",
              "      <td>09/26/2020</td>\n",
              "      <td>09:00:00</td>\n",
              "      <td>REGULAR</td>\n",
              "      <td>291116</td>\n",
              "      <td>117072</td>\n",
              "    </tr>\n",
              "    <tr>\n",
              "      <th>40670</th>\n",
              "      <td>J003</td>\n",
              "      <td>R352</td>\n",
              "      <td>00-03-00</td>\n",
              "      <td>HEWES ST</td>\n",
              "      <td>JM</td>\n",
              "      <td>BMT</td>\n",
              "      <td>09/26/2020</td>\n",
              "      <td>13:00:00</td>\n",
              "      <td>REGULAR</td>\n",
              "      <td>291146</td>\n",
              "      <td>117087</td>\n",
              "    </tr>\n",
              "    <tr>\n",
              "      <th>40671</th>\n",
              "      <td>J003</td>\n",
              "      <td>R352</td>\n",
              "      <td>00-03-00</td>\n",
              "      <td>HEWES ST</td>\n",
              "      <td>JM</td>\n",
              "      <td>BMT</td>\n",
              "      <td>09/26/2020</td>\n",
              "      <td>17:00:00</td>\n",
              "      <td>REGULAR</td>\n",
              "      <td>291181</td>\n",
              "      <td>117114</td>\n",
              "    </tr>\n",
              "    <tr>\n",
              "      <th>40672</th>\n",
              "      <td>J003</td>\n",
              "      <td>R352</td>\n",
              "      <td>00-03-00</td>\n",
              "      <td>HEWES ST</td>\n",
              "      <td>JM</td>\n",
              "      <td>BMT</td>\n",
              "      <td>09/26/2020</td>\n",
              "      <td>21:00:00</td>\n",
              "      <td>REGULAR</td>\n",
              "      <td>291210</td>\n",
              "      <td>117134</td>\n",
              "    </tr>\n",
              "    <tr>\n",
              "      <th>...</th>\n",
              "      <td>...</td>\n",
              "      <td>...</td>\n",
              "      <td>...</td>\n",
              "      <td>...</td>\n",
              "      <td>...</td>\n",
              "      <td>...</td>\n",
              "      <td>...</td>\n",
              "      <td>...</td>\n",
              "      <td>...</td>\n",
              "      <td>...</td>\n",
              "      <td>...</td>\n",
              "    </tr>\n",
              "    <tr>\n",
              "      <th>142443</th>\n",
              "      <td>R138</td>\n",
              "      <td>R293</td>\n",
              "      <td>00-02-02</td>\n",
              "      <td>34 ST-PENN STA</td>\n",
              "      <td>123ACE</td>\n",
              "      <td>IRT</td>\n",
              "      <td>12/25/2020</td>\n",
              "      <td>21:00:00</td>\n",
              "      <td>REGULAR</td>\n",
              "      <td>77951</td>\n",
              "      <td>42745</td>\n",
              "    </tr>\n",
              "    <tr>\n",
              "      <th>142480</th>\n",
              "      <td>R138</td>\n",
              "      <td>R293</td>\n",
              "      <td>00-02-03</td>\n",
              "      <td>34 ST-PENN STA</td>\n",
              "      <td>123ACE</td>\n",
              "      <td>IRT</td>\n",
              "      <td>12/25/2020</td>\n",
              "      <td>01:00:00</td>\n",
              "      <td>REGULAR</td>\n",
              "      <td>2344578</td>\n",
              "      <td>1624181</td>\n",
              "    </tr>\n",
              "    <tr>\n",
              "      <th>142481</th>\n",
              "      <td>R138</td>\n",
              "      <td>R293</td>\n",
              "      <td>00-02-03</td>\n",
              "      <td>34 ST-PENN STA</td>\n",
              "      <td>123ACE</td>\n",
              "      <td>IRT</td>\n",
              "      <td>12/25/2020</td>\n",
              "      <td>05:00:00</td>\n",
              "      <td>REGULAR</td>\n",
              "      <td>2344578</td>\n",
              "      <td>1624183</td>\n",
              "    </tr>\n",
              "    <tr>\n",
              "      <th>142483</th>\n",
              "      <td>R138</td>\n",
              "      <td>R293</td>\n",
              "      <td>00-02-03</td>\n",
              "      <td>34 ST-PENN STA</td>\n",
              "      <td>123ACE</td>\n",
              "      <td>IRT</td>\n",
              "      <td>12/25/2020</td>\n",
              "      <td>13:00:00</td>\n",
              "      <td>REGULAR</td>\n",
              "      <td>2344607</td>\n",
              "      <td>1624212</td>\n",
              "    </tr>\n",
              "    <tr>\n",
              "      <th>212298</th>\n",
              "      <td>TRAM2</td>\n",
              "      <td>R469</td>\n",
              "      <td>00-05-01</td>\n",
              "      <td>RIT-ROOSEVELT</td>\n",
              "      <td>R</td>\n",
              "      <td>RIT</td>\n",
              "      <td>12/25/2020</td>\n",
              "      <td>20:00:00</td>\n",
              "      <td>REGULAR</td>\n",
              "      <td>5554</td>\n",
              "      <td>541</td>\n",
              "    </tr>\n",
              "  </tbody>\n",
              "</table>\n",
              "<p>2738673 rows × 11 columns</p>\n",
              "</div>"
            ],
            "text/plain": [
              "          C/A  ... EXITS                                                               \n",
              "0        A002  ...                                            2538694                  \n",
              "40669    J003  ...                                             117072                  \n",
              "40670    J003  ...                                             117087                  \n",
              "40671    J003  ...                                             117114                  \n",
              "40672    J003  ...                                             117134                  \n",
              "...       ...  ...                                                ...                  \n",
              "142443   R138  ...                                              42745                  \n",
              "142480   R138  ...                                            1624181                  \n",
              "142481   R138  ...                                            1624183                  \n",
              "142483   R138  ...                                            1624212                  \n",
              "212298  TRAM2  ...                                                541                  \n",
              "\n",
              "[2738673 rows x 11 columns]"
            ]
          },
          "metadata": {},
          "execution_count": 50
        }
      ]
    },
    {
      "cell_type": "code",
      "metadata": {
        "colab": {
          "base_uri": "https://localhost:8080/",
          "height": 419
        },
        "id": "yiLhK4qrDs1e",
        "outputId": "518f2fae-e670-4e45-e384-bfcf7682ef20"
      },
      "source": [
        "turnstiles_df"
      ],
      "execution_count": null,
      "outputs": [
        {
          "output_type": "execute_result",
          "data": {
            "text/html": [
              "<div>\n",
              "<style scoped>\n",
              "    .dataframe tbody tr th:only-of-type {\n",
              "        vertical-align: middle;\n",
              "    }\n",
              "\n",
              "    .dataframe tbody tr th {\n",
              "        vertical-align: top;\n",
              "    }\n",
              "\n",
              "    .dataframe thead th {\n",
              "        text-align: right;\n",
              "    }\n",
              "</style>\n",
              "<table border=\"1\" class=\"dataframe\">\n",
              "  <thead>\n",
              "    <tr style=\"text-align: right;\">\n",
              "      <th></th>\n",
              "      <th>C/A</th>\n",
              "      <th>UNIT</th>\n",
              "      <th>SCP</th>\n",
              "      <th>STATION</th>\n",
              "      <th>LINENAME</th>\n",
              "      <th>DIVISION</th>\n",
              "      <th>DATE</th>\n",
              "      <th>TIME</th>\n",
              "      <th>DESC</th>\n",
              "      <th>ENTRIES</th>\n",
              "      <th>EXITS</th>\n",
              "    </tr>\n",
              "  </thead>\n",
              "  <tbody>\n",
              "    <tr>\n",
              "      <th>0</th>\n",
              "      <td>A002</td>\n",
              "      <td>R051</td>\n",
              "      <td>02-00-00</td>\n",
              "      <td>59 ST</td>\n",
              "      <td>NQR456W</td>\n",
              "      <td>BMT</td>\n",
              "      <td>09/26/2020</td>\n",
              "      <td>00:00:00</td>\n",
              "      <td>REGULAR</td>\n",
              "      <td>7463495</td>\n",
              "      <td>2538694</td>\n",
              "    </tr>\n",
              "    <tr>\n",
              "      <th>1</th>\n",
              "      <td>A002</td>\n",
              "      <td>R051</td>\n",
              "      <td>02-00-00</td>\n",
              "      <td>59 ST</td>\n",
              "      <td>NQR456W</td>\n",
              "      <td>BMT</td>\n",
              "      <td>09/26/2020</td>\n",
              "      <td>04:00:00</td>\n",
              "      <td>REGULAR</td>\n",
              "      <td>7463500</td>\n",
              "      <td>2538697</td>\n",
              "    </tr>\n",
              "    <tr>\n",
              "      <th>2</th>\n",
              "      <td>A002</td>\n",
              "      <td>R051</td>\n",
              "      <td>02-00-00</td>\n",
              "      <td>59 ST</td>\n",
              "      <td>NQR456W</td>\n",
              "      <td>BMT</td>\n",
              "      <td>09/26/2020</td>\n",
              "      <td>08:00:00</td>\n",
              "      <td>REGULAR</td>\n",
              "      <td>7463516</td>\n",
              "      <td>2538712</td>\n",
              "    </tr>\n",
              "    <tr>\n",
              "      <th>3</th>\n",
              "      <td>A002</td>\n",
              "      <td>R051</td>\n",
              "      <td>02-00-00</td>\n",
              "      <td>59 ST</td>\n",
              "      <td>NQR456W</td>\n",
              "      <td>BMT</td>\n",
              "      <td>09/26/2020</td>\n",
              "      <td>12:00:00</td>\n",
              "      <td>REGULAR</td>\n",
              "      <td>7463552</td>\n",
              "      <td>2538767</td>\n",
              "    </tr>\n",
              "    <tr>\n",
              "      <th>4</th>\n",
              "      <td>A002</td>\n",
              "      <td>R051</td>\n",
              "      <td>02-00-00</td>\n",
              "      <td>59 ST</td>\n",
              "      <td>NQR456W</td>\n",
              "      <td>BMT</td>\n",
              "      <td>09/26/2020</td>\n",
              "      <td>16:00:00</td>\n",
              "      <td>REGULAR</td>\n",
              "      <td>7463664</td>\n",
              "      <td>2538795</td>\n",
              "    </tr>\n",
              "    <tr>\n",
              "      <th>...</th>\n",
              "      <td>...</td>\n",
              "      <td>...</td>\n",
              "      <td>...</td>\n",
              "      <td>...</td>\n",
              "      <td>...</td>\n",
              "      <td>...</td>\n",
              "      <td>...</td>\n",
              "      <td>...</td>\n",
              "      <td>...</td>\n",
              "      <td>...</td>\n",
              "      <td>...</td>\n",
              "    </tr>\n",
              "    <tr>\n",
              "      <th>212294</th>\n",
              "      <td>TRAM2</td>\n",
              "      <td>R469</td>\n",
              "      <td>00-05-01</td>\n",
              "      <td>RIT-ROOSEVELT</td>\n",
              "      <td>R</td>\n",
              "      <td>RIT</td>\n",
              "      <td>12/25/2020</td>\n",
              "      <td>04:00:00</td>\n",
              "      <td>REGULAR</td>\n",
              "      <td>5554</td>\n",
              "      <td>541</td>\n",
              "    </tr>\n",
              "    <tr>\n",
              "      <th>212295</th>\n",
              "      <td>TRAM2</td>\n",
              "      <td>R469</td>\n",
              "      <td>00-05-01</td>\n",
              "      <td>RIT-ROOSEVELT</td>\n",
              "      <td>R</td>\n",
              "      <td>RIT</td>\n",
              "      <td>12/25/2020</td>\n",
              "      <td>08:00:00</td>\n",
              "      <td>REGULAR</td>\n",
              "      <td>5554</td>\n",
              "      <td>541</td>\n",
              "    </tr>\n",
              "    <tr>\n",
              "      <th>212296</th>\n",
              "      <td>TRAM2</td>\n",
              "      <td>R469</td>\n",
              "      <td>00-05-01</td>\n",
              "      <td>RIT-ROOSEVELT</td>\n",
              "      <td>R</td>\n",
              "      <td>RIT</td>\n",
              "      <td>12/25/2020</td>\n",
              "      <td>12:00:00</td>\n",
              "      <td>REGULAR</td>\n",
              "      <td>5554</td>\n",
              "      <td>541</td>\n",
              "    </tr>\n",
              "    <tr>\n",
              "      <th>212297</th>\n",
              "      <td>TRAM2</td>\n",
              "      <td>R469</td>\n",
              "      <td>00-05-01</td>\n",
              "      <td>RIT-ROOSEVELT</td>\n",
              "      <td>R</td>\n",
              "      <td>RIT</td>\n",
              "      <td>12/25/2020</td>\n",
              "      <td>16:00:00</td>\n",
              "      <td>REGULAR</td>\n",
              "      <td>5554</td>\n",
              "      <td>541</td>\n",
              "    </tr>\n",
              "    <tr>\n",
              "      <th>212298</th>\n",
              "      <td>TRAM2</td>\n",
              "      <td>R469</td>\n",
              "      <td>00-05-01</td>\n",
              "      <td>RIT-ROOSEVELT</td>\n",
              "      <td>R</td>\n",
              "      <td>RIT</td>\n",
              "      <td>12/25/2020</td>\n",
              "      <td>20:00:00</td>\n",
              "      <td>REGULAR</td>\n",
              "      <td>5554</td>\n",
              "      <td>541</td>\n",
              "    </tr>\n",
              "  </tbody>\n",
              "</table>\n",
              "<p>2738673 rows × 11 columns</p>\n",
              "</div>"
            ],
            "text/plain": [
              "          C/A  ... EXITS                                                               \n",
              "0        A002  ...                                            2538694                  \n",
              "1        A002  ...                                            2538697                  \n",
              "2        A002  ...                                            2538712                  \n",
              "3        A002  ...                                            2538767                  \n",
              "4        A002  ...                                            2538795                  \n",
              "...       ...  ...                                                ...                  \n",
              "212294  TRAM2  ...                                                541                  \n",
              "212295  TRAM2  ...                                                541                  \n",
              "212296  TRAM2  ...                                                541                  \n",
              "212297  TRAM2  ...                                                541                  \n",
              "212298  TRAM2  ...                                                541                  \n",
              "\n",
              "[2738673 rows x 11 columns]"
            ]
          },
          "metadata": {},
          "execution_count": 51
        }
      ]
    },
    {
      "cell_type": "code",
      "metadata": {
        "colab": {
          "base_uri": "https://localhost:8080/",
          "height": 204
        },
        "id": "4YvOo2kQTmsk",
        "outputId": "c3f67a00-44bb-4714-e148-d109c0c96b73"
      },
      "source": [
        "#The second try:\n",
        "mask = ((turnstiles_df[\"C/A\"] == \"A002\") &\n",
        "        (turnstiles_df[\"UNIT\"] == \"R051\") & \n",
        "        (turnstiles_df[\"SCP\"] == \"02-00-00\") & \n",
        "        (turnstiles_df[\"STATION\"] == \"59 ST\"))\n",
        "\n",
        "turnstiles_df[mask].head()"
      ],
      "execution_count": null,
      "outputs": [
        {
          "output_type": "execute_result",
          "data": {
            "text/html": [
              "<div>\n",
              "<style scoped>\n",
              "    .dataframe tbody tr th:only-of-type {\n",
              "        vertical-align: middle;\n",
              "    }\n",
              "\n",
              "    .dataframe tbody tr th {\n",
              "        vertical-align: top;\n",
              "    }\n",
              "\n",
              "    .dataframe thead th {\n",
              "        text-align: right;\n",
              "    }\n",
              "</style>\n",
              "<table border=\"1\" class=\"dataframe\">\n",
              "  <thead>\n",
              "    <tr style=\"text-align: right;\">\n",
              "      <th></th>\n",
              "      <th>C/A</th>\n",
              "      <th>UNIT</th>\n",
              "      <th>SCP</th>\n",
              "      <th>STATION</th>\n",
              "      <th>LINENAME</th>\n",
              "      <th>DIVISION</th>\n",
              "      <th>DATE</th>\n",
              "      <th>TIME</th>\n",
              "      <th>DESC</th>\n",
              "      <th>ENTRIES</th>\n",
              "      <th>EXITS</th>\n",
              "    </tr>\n",
              "  </thead>\n",
              "  <tbody>\n",
              "    <tr>\n",
              "      <th>0</th>\n",
              "      <td>A002</td>\n",
              "      <td>R051</td>\n",
              "      <td>02-00-00</td>\n",
              "      <td>59 ST</td>\n",
              "      <td>NQR456W</td>\n",
              "      <td>BMT</td>\n",
              "      <td>09/26/2020</td>\n",
              "      <td>00:00:00</td>\n",
              "      <td>REGULAR</td>\n",
              "      <td>7463495</td>\n",
              "      <td>2538694</td>\n",
              "    </tr>\n",
              "    <tr>\n",
              "      <th>1</th>\n",
              "      <td>A002</td>\n",
              "      <td>R051</td>\n",
              "      <td>02-00-00</td>\n",
              "      <td>59 ST</td>\n",
              "      <td>NQR456W</td>\n",
              "      <td>BMT</td>\n",
              "      <td>09/26/2020</td>\n",
              "      <td>04:00:00</td>\n",
              "      <td>REGULAR</td>\n",
              "      <td>7463500</td>\n",
              "      <td>2538697</td>\n",
              "    </tr>\n",
              "    <tr>\n",
              "      <th>2</th>\n",
              "      <td>A002</td>\n",
              "      <td>R051</td>\n",
              "      <td>02-00-00</td>\n",
              "      <td>59 ST</td>\n",
              "      <td>NQR456W</td>\n",
              "      <td>BMT</td>\n",
              "      <td>09/26/2020</td>\n",
              "      <td>08:00:00</td>\n",
              "      <td>REGULAR</td>\n",
              "      <td>7463516</td>\n",
              "      <td>2538712</td>\n",
              "    </tr>\n",
              "    <tr>\n",
              "      <th>3</th>\n",
              "      <td>A002</td>\n",
              "      <td>R051</td>\n",
              "      <td>02-00-00</td>\n",
              "      <td>59 ST</td>\n",
              "      <td>NQR456W</td>\n",
              "      <td>BMT</td>\n",
              "      <td>09/26/2020</td>\n",
              "      <td>12:00:00</td>\n",
              "      <td>REGULAR</td>\n",
              "      <td>7463552</td>\n",
              "      <td>2538767</td>\n",
              "    </tr>\n",
              "    <tr>\n",
              "      <th>4</th>\n",
              "      <td>A002</td>\n",
              "      <td>R051</td>\n",
              "      <td>02-00-00</td>\n",
              "      <td>59 ST</td>\n",
              "      <td>NQR456W</td>\n",
              "      <td>BMT</td>\n",
              "      <td>09/26/2020</td>\n",
              "      <td>16:00:00</td>\n",
              "      <td>REGULAR</td>\n",
              "      <td>7463664</td>\n",
              "      <td>2538795</td>\n",
              "    </tr>\n",
              "  </tbody>\n",
              "</table>\n",
              "</div>"
            ],
            "text/plain": [
              "    C/A  ... EXITS                                                               \n",
              "0  A002  ...                                            2538694                  \n",
              "1  A002  ...                                            2538697                  \n",
              "2  A002  ...                                            2538712                  \n",
              "3  A002  ...                                            2538767                  \n",
              "4  A002  ...                                            2538795                  \n",
              "\n",
              "[5 rows x 11 columns]"
            ]
          },
          "metadata": {},
          "execution_count": 52
        }
      ]
    },
    {
      "cell_type": "code",
      "metadata": {
        "colab": {
          "base_uri": "https://localhost:8080/",
          "height": 204
        },
        "id": "Kfso4wya0lUI",
        "outputId": "4ca078fc-4744-4c08-c2af-80a7ff6b73cf"
      },
      "source": [
        "mask = ((turnstiles_df[\"C/A\"] == \"R626\") & \n",
        "(turnstiles_df[\"UNIT\"] == \"R062\") & \n",
        "(turnstiles_df[\"SCP\"] == \"00-00-00\") & \n",
        "(turnstiles_df[\"STATION\"] == \"CROWN HTS-UTICA\"))\n",
        "\n",
        "turnstiles_df[mask].head()"
      ],
      "execution_count": null,
      "outputs": [
        {
          "output_type": "execute_result",
          "data": {
            "text/html": [
              "<div>\n",
              "<style scoped>\n",
              "    .dataframe tbody tr th:only-of-type {\n",
              "        vertical-align: middle;\n",
              "    }\n",
              "\n",
              "    .dataframe tbody tr th {\n",
              "        vertical-align: top;\n",
              "    }\n",
              "\n",
              "    .dataframe thead th {\n",
              "        text-align: right;\n",
              "    }\n",
              "</style>\n",
              "<table border=\"1\" class=\"dataframe\">\n",
              "  <thead>\n",
              "    <tr style=\"text-align: right;\">\n",
              "      <th></th>\n",
              "      <th>C/A</th>\n",
              "      <th>UNIT</th>\n",
              "      <th>SCP</th>\n",
              "      <th>STATION</th>\n",
              "      <th>LINENAME</th>\n",
              "      <th>DIVISION</th>\n",
              "      <th>DATE</th>\n",
              "      <th>TIME</th>\n",
              "      <th>DESC</th>\n",
              "      <th>ENTRIES</th>\n",
              "      <th>EXITS</th>\n",
              "    </tr>\n",
              "  </thead>\n",
              "  <tbody>\n",
              "    <tr>\n",
              "      <th>205285</th>\n",
              "      <td>R626</td>\n",
              "      <td>R062</td>\n",
              "      <td>00-00-00</td>\n",
              "      <td>CROWN HTS-UTICA</td>\n",
              "      <td>34</td>\n",
              "      <td>IRT</td>\n",
              "      <td>09/26/2020</td>\n",
              "      <td>00:00:00</td>\n",
              "      <td>REGULAR</td>\n",
              "      <td>15657833</td>\n",
              "      <td>3459102</td>\n",
              "    </tr>\n",
              "    <tr>\n",
              "      <th>205286</th>\n",
              "      <td>R626</td>\n",
              "      <td>R062</td>\n",
              "      <td>00-00-00</td>\n",
              "      <td>CROWN HTS-UTICA</td>\n",
              "      <td>34</td>\n",
              "      <td>IRT</td>\n",
              "      <td>09/26/2020</td>\n",
              "      <td>04:00:00</td>\n",
              "      <td>REGULAR</td>\n",
              "      <td>15657834</td>\n",
              "      <td>3459105</td>\n",
              "    </tr>\n",
              "    <tr>\n",
              "      <th>205287</th>\n",
              "      <td>R626</td>\n",
              "      <td>R062</td>\n",
              "      <td>00-00-00</td>\n",
              "      <td>CROWN HTS-UTICA</td>\n",
              "      <td>34</td>\n",
              "      <td>IRT</td>\n",
              "      <td>09/26/2020</td>\n",
              "      <td>08:00:00</td>\n",
              "      <td>REGULAR</td>\n",
              "      <td>15657967</td>\n",
              "      <td>3459111</td>\n",
              "    </tr>\n",
              "    <tr>\n",
              "      <th>205288</th>\n",
              "      <td>R626</td>\n",
              "      <td>R062</td>\n",
              "      <td>00-00-00</td>\n",
              "      <td>CROWN HTS-UTICA</td>\n",
              "      <td>34</td>\n",
              "      <td>IRT</td>\n",
              "      <td>09/26/2020</td>\n",
              "      <td>12:00:00</td>\n",
              "      <td>REGULAR</td>\n",
              "      <td>15658146</td>\n",
              "      <td>3459137</td>\n",
              "    </tr>\n",
              "    <tr>\n",
              "      <th>205289</th>\n",
              "      <td>R626</td>\n",
              "      <td>R062</td>\n",
              "      <td>00-00-00</td>\n",
              "      <td>CROWN HTS-UTICA</td>\n",
              "      <td>34</td>\n",
              "      <td>IRT</td>\n",
              "      <td>09/26/2020</td>\n",
              "      <td>16:00:00</td>\n",
              "      <td>REGULAR</td>\n",
              "      <td>15658287</td>\n",
              "      <td>3459177</td>\n",
              "    </tr>\n",
              "  </tbody>\n",
              "</table>\n",
              "</div>"
            ],
            "text/plain": [
              "         C/A  ... EXITS                                                               \n",
              "205285  R626  ...                                            3459102                  \n",
              "205286  R626  ...                                            3459105                  \n",
              "205287  R626  ...                                            3459111                  \n",
              "205288  R626  ...                                            3459137                  \n",
              "205289  R626  ...                                            3459177                  \n",
              "\n",
              "[5 rows x 11 columns]"
            ]
          },
          "metadata": {},
          "execution_count": 53
        }
      ]
    },
    {
      "cell_type": "code",
      "metadata": {
        "colab": {
          "base_uri": "https://localhost:8080/",
          "height": 204
        },
        "id": "SjYQV9Il0nKS",
        "outputId": "2c14333e-0da8-4a91-df6b-bd8a3fb08dfe"
      },
      "source": [
        "(turnstiles_df\n",
        " .groupby([\"C/A\", \"UNIT\", \"SCP\", \"STATION\", \"DATE\"])\n",
        " .ENTRIES.count()\n",
        " .reset_index()\n",
        " .sort_values(\"ENTRIES\", ascending=False)).head(5)"
      ],
      "execution_count": null,
      "outputs": [
        {
          "output_type": "execute_result",
          "data": {
            "text/html": [
              "<div>\n",
              "<style scoped>\n",
              "    .dataframe tbody tr th:only-of-type {\n",
              "        vertical-align: middle;\n",
              "    }\n",
              "\n",
              "    .dataframe tbody tr th {\n",
              "        vertical-align: top;\n",
              "    }\n",
              "\n",
              "    .dataframe thead th {\n",
              "        text-align: right;\n",
              "    }\n",
              "</style>\n",
              "<table border=\"1\" class=\"dataframe\">\n",
              "  <thead>\n",
              "    <tr style=\"text-align: right;\">\n",
              "      <th></th>\n",
              "      <th>C/A</th>\n",
              "      <th>UNIT</th>\n",
              "      <th>SCP</th>\n",
              "      <th>STATION</th>\n",
              "      <th>DATE</th>\n",
              "      <th>ENTRIES</th>\n",
              "    </tr>\n",
              "  </thead>\n",
              "  <tbody>\n",
              "    <tr>\n",
              "      <th>75155</th>\n",
              "      <td>H014</td>\n",
              "      <td>R249</td>\n",
              "      <td>00-00-00</td>\n",
              "      <td>GRAHAM AV</td>\n",
              "      <td>11/23/2020</td>\n",
              "      <td>213</td>\n",
              "    </tr>\n",
              "    <tr>\n",
              "      <th>75337</th>\n",
              "      <td>H014</td>\n",
              "      <td>R249</td>\n",
              "      <td>00-00-02</td>\n",
              "      <td>GRAHAM AV</td>\n",
              "      <td>11/23/2020</td>\n",
              "      <td>213</td>\n",
              "    </tr>\n",
              "    <tr>\n",
              "      <th>75246</th>\n",
              "      <td>H014</td>\n",
              "      <td>R249</td>\n",
              "      <td>00-00-01</td>\n",
              "      <td>GRAHAM AV</td>\n",
              "      <td>11/23/2020</td>\n",
              "      <td>212</td>\n",
              "    </tr>\n",
              "    <tr>\n",
              "      <th>415162</th>\n",
              "      <td>R527</td>\n",
              "      <td>R122</td>\n",
              "      <td>00-03-01</td>\n",
              "      <td>90 ST-ELMHURST</td>\n",
              "      <td>10/03/2020</td>\n",
              "      <td>95</td>\n",
              "    </tr>\n",
              "    <tr>\n",
              "      <th>415435</th>\n",
              "      <td>R527</td>\n",
              "      <td>R122</td>\n",
              "      <td>00-03-04</td>\n",
              "      <td>90 ST-ELMHURST</td>\n",
              "      <td>10/03/2020</td>\n",
              "      <td>95</td>\n",
              "    </tr>\n",
              "  </tbody>\n",
              "</table>\n",
              "</div>"
            ],
            "text/plain": [
              "         C/A  UNIT       SCP         STATION        DATE  ENTRIES\n",
              "75155   H014  R249  00-00-00       GRAHAM AV  11/23/2020      213\n",
              "75337   H014  R249  00-00-02       GRAHAM AV  11/23/2020      213\n",
              "75246   H014  R249  00-00-01       GRAHAM AV  11/23/2020      212\n",
              "415162  R527  R122  00-03-01  90 ST-ELMHURST  10/03/2020       95\n",
              "415435  R527  R122  00-03-04  90 ST-ELMHURST  10/03/2020       95"
            ]
          },
          "metadata": {},
          "execution_count": 54
        }
      ]
    },
    {
      "cell_type": "code",
      "metadata": {
        "id": "HRz3JTEQ0y0g"
      },
      "source": [
        "turnstiles_df = turnstiles_df.drop([\"EXITS\", \"DESC\"], axis=1, errors=\"ignore\")"
      ],
      "execution_count": null,
      "outputs": []
    },
    {
      "cell_type": "code",
      "metadata": {
        "colab": {
          "base_uri": "https://localhost:8080/",
          "height": 235
        },
        "id": "FwvXwyJ01kbv",
        "outputId": "ae072c3f-56c3-4c20-cca7-6c5592506558"
      },
      "source": [
        "turnstiles_df[(turnstiles_df[\"C/A\"] == \"A011\") & \n",
        "(turnstiles_df[\"UNIT\"] == \"R080\") & \n",
        "(turnstiles_df[\"SCP\"] == \"01-00-00\") & \n",
        "(turnstiles_df[\"STATION\"] == \"57 ST-7 AV\") &\n",
        "(turnstiles_df[\"DATE\"] == \"09/27/2020\")]"
      ],
      "execution_count": null,
      "outputs": [
        {
          "output_type": "execute_result",
          "data": {
            "text/html": [
              "<div>\n",
              "<style scoped>\n",
              "    .dataframe tbody tr th:only-of-type {\n",
              "        vertical-align: middle;\n",
              "    }\n",
              "\n",
              "    .dataframe tbody tr th {\n",
              "        vertical-align: top;\n",
              "    }\n",
              "\n",
              "    .dataframe thead th {\n",
              "        text-align: right;\n",
              "    }\n",
              "</style>\n",
              "<table border=\"1\" class=\"dataframe\">\n",
              "  <thead>\n",
              "    <tr style=\"text-align: right;\">\n",
              "      <th></th>\n",
              "      <th>C/A</th>\n",
              "      <th>UNIT</th>\n",
              "      <th>SCP</th>\n",
              "      <th>STATION</th>\n",
              "      <th>LINENAME</th>\n",
              "      <th>DIVISION</th>\n",
              "      <th>DATE</th>\n",
              "      <th>TIME</th>\n",
              "      <th>ENTRIES</th>\n",
              "      <th>EXITS</th>\n",
              "    </tr>\n",
              "  </thead>\n",
              "  <tbody>\n",
              "    <tr>\n",
              "      <th>1434</th>\n",
              "      <td>A011</td>\n",
              "      <td>R080</td>\n",
              "      <td>01-00-00</td>\n",
              "      <td>57 ST-7 AV</td>\n",
              "      <td>NQRW</td>\n",
              "      <td>BMT</td>\n",
              "      <td>09/27/2020</td>\n",
              "      <td>00:00:00</td>\n",
              "      <td>466066</td>\n",
              "      <td>1599154</td>\n",
              "    </tr>\n",
              "    <tr>\n",
              "      <th>1435</th>\n",
              "      <td>A011</td>\n",
              "      <td>R080</td>\n",
              "      <td>01-00-00</td>\n",
              "      <td>57 ST-7 AV</td>\n",
              "      <td>NQRW</td>\n",
              "      <td>BMT</td>\n",
              "      <td>09/27/2020</td>\n",
              "      <td>04:00:00</td>\n",
              "      <td>466068</td>\n",
              "      <td>1599154</td>\n",
              "    </tr>\n",
              "    <tr>\n",
              "      <th>1436</th>\n",
              "      <td>A011</td>\n",
              "      <td>R080</td>\n",
              "      <td>01-00-00</td>\n",
              "      <td>57 ST-7 AV</td>\n",
              "      <td>NQRW</td>\n",
              "      <td>BMT</td>\n",
              "      <td>09/27/2020</td>\n",
              "      <td>08:00:00</td>\n",
              "      <td>466071</td>\n",
              "      <td>1599158</td>\n",
              "    </tr>\n",
              "    <tr>\n",
              "      <th>1437</th>\n",
              "      <td>A011</td>\n",
              "      <td>R080</td>\n",
              "      <td>01-00-00</td>\n",
              "      <td>57 ST-7 AV</td>\n",
              "      <td>NQRW</td>\n",
              "      <td>BMT</td>\n",
              "      <td>09/27/2020</td>\n",
              "      <td>12:00:00</td>\n",
              "      <td>466075</td>\n",
              "      <td>1599167</td>\n",
              "    </tr>\n",
              "    <tr>\n",
              "      <th>1438</th>\n",
              "      <td>A011</td>\n",
              "      <td>R080</td>\n",
              "      <td>01-00-00</td>\n",
              "      <td>57 ST-7 AV</td>\n",
              "      <td>NQRW</td>\n",
              "      <td>BMT</td>\n",
              "      <td>09/27/2020</td>\n",
              "      <td>16:00:00</td>\n",
              "      <td>466085</td>\n",
              "      <td>1599190</td>\n",
              "    </tr>\n",
              "    <tr>\n",
              "      <th>1439</th>\n",
              "      <td>A011</td>\n",
              "      <td>R080</td>\n",
              "      <td>01-00-00</td>\n",
              "      <td>57 ST-7 AV</td>\n",
              "      <td>NQRW</td>\n",
              "      <td>BMT</td>\n",
              "      <td>09/27/2020</td>\n",
              "      <td>20:00:00</td>\n",
              "      <td>466106</td>\n",
              "      <td>1599207</td>\n",
              "    </tr>\n",
              "  </tbody>\n",
              "</table>\n",
              "</div>"
            ],
            "text/plain": [
              "       C/A  ... EXITS                                                               \n",
              "1434  A011  ...                                            1599154                  \n",
              "1435  A011  ...                                            1599154                  \n",
              "1436  A011  ...                                            1599158                  \n",
              "1437  A011  ...                                            1599167                  \n",
              "1438  A011  ...                                            1599190                  \n",
              "1439  A011  ...                                            1599207                  \n",
              "\n",
              "[6 rows x 10 columns]"
            ]
          },
          "metadata": {},
          "execution_count": 56
        }
      ]
    },
    {
      "cell_type": "code",
      "metadata": {
        "id": "2GS1_NeJ1u1w"
      },
      "source": [
        "turnstiles_daily = (turnstiles_df\n",
        "                        .groupby([\"C/A\", \"UNIT\", \"SCP\", \"STATION\", \"DATE\"],as_index=False)\n",
        "                        .ENTRIES.first())"
      ],
      "execution_count": null,
      "outputs": []
    },
    {
      "cell_type": "code",
      "metadata": {
        "colab": {
          "base_uri": "https://localhost:8080/",
          "height": 450
        },
        "id": "IFFRyegl16aQ",
        "outputId": "9a7bb576-0e83-4df4-8482-f91805eceedf"
      },
      "source": [
        "turnstiles_daily.sort_values(['ENTRIES'],ascending=False).groupby('STATION').sum()"
      ],
      "execution_count": null,
      "outputs": [
        {
          "output_type": "execute_result",
          "data": {
            "text/html": [
              "<div>\n",
              "<style scoped>\n",
              "    .dataframe tbody tr th:only-of-type {\n",
              "        vertical-align: middle;\n",
              "    }\n",
              "\n",
              "    .dataframe tbody tr th {\n",
              "        vertical-align: top;\n",
              "    }\n",
              "\n",
              "    .dataframe thead th {\n",
              "        text-align: right;\n",
              "    }\n",
              "</style>\n",
              "<table border=\"1\" class=\"dataframe\">\n",
              "  <thead>\n",
              "    <tr style=\"text-align: right;\">\n",
              "      <th></th>\n",
              "      <th>ENTRIES</th>\n",
              "    </tr>\n",
              "    <tr>\n",
              "      <th>STATION</th>\n",
              "      <th></th>\n",
              "    </tr>\n",
              "  </thead>\n",
              "  <tbody>\n",
              "    <tr>\n",
              "      <th>1 AV</th>\n",
              "      <td>42126830761</td>\n",
              "    </tr>\n",
              "    <tr>\n",
              "      <th>103 ST</th>\n",
              "      <td>12376851122</td>\n",
              "    </tr>\n",
              "    <tr>\n",
              "      <th>103 ST-CORONA</th>\n",
              "      <td>5767516144</td>\n",
              "    </tr>\n",
              "    <tr>\n",
              "      <th>104 ST</th>\n",
              "      <td>153938493993</td>\n",
              "    </tr>\n",
              "    <tr>\n",
              "      <th>110 ST</th>\n",
              "      <td>3741838788</td>\n",
              "    </tr>\n",
              "    <tr>\n",
              "      <th>...</th>\n",
              "      <td>...</td>\n",
              "    </tr>\n",
              "    <tr>\n",
              "      <th>WOODLAWN</th>\n",
              "      <td>2970035417</td>\n",
              "    </tr>\n",
              "    <tr>\n",
              "      <th>WORLD TRADE CTR</th>\n",
              "      <td>145772928189</td>\n",
              "    </tr>\n",
              "    <tr>\n",
              "      <th>WTC-CORTLANDT</th>\n",
              "      <td>67127295497</td>\n",
              "    </tr>\n",
              "    <tr>\n",
              "      <th>YORK ST</th>\n",
              "      <td>2693845116</td>\n",
              "    </tr>\n",
              "    <tr>\n",
              "      <th>ZEREGA AV</th>\n",
              "      <td>242021928</td>\n",
              "    </tr>\n",
              "  </tbody>\n",
              "</table>\n",
              "<p>379 rows × 1 columns</p>\n",
              "</div>"
            ],
            "text/plain": [
              "                      ENTRIES\n",
              "STATION                      \n",
              "1 AV              42126830761\n",
              "103 ST            12376851122\n",
              "103 ST-CORONA      5767516144\n",
              "104 ST           153938493993\n",
              "110 ST             3741838788\n",
              "...                       ...\n",
              "WOODLAWN           2970035417\n",
              "WORLD TRADE CTR  145772928189\n",
              "WTC-CORTLANDT     67127295497\n",
              "YORK ST            2693845116\n",
              "ZEREGA AV           242021928\n",
              "\n",
              "[379 rows x 1 columns]"
            ]
          },
          "metadata": {},
          "execution_count": 58
        }
      ]
    },
    {
      "cell_type": "code",
      "metadata": {
        "colab": {
          "base_uri": "https://localhost:8080/"
        },
        "id": "sDOyFOV_22hX",
        "outputId": "0173f3cb-9dfa-4a41-e27a-7d8403110308"
      },
      "source": [
        "turnstiles_daily[[\"PREV_DATE\", \"PREV_ENTRIES\"]] = (turnstiles_daily\n",
        "                                                       .groupby([\"C/A\", \"UNIT\", \"SCP\", \"STATION\"])[\"DATE\", \"ENTRIES\"]\n",
        "                                                       .apply(lambda grp: grp.shift(1)))"
      ],
      "execution_count": null,
      "outputs": [
        {
          "output_type": "stream",
          "name": "stderr",
          "text": [
            "/usr/local/lib/python3.7/dist-packages/ipykernel_launcher.py:2: FutureWarning: Indexing with multiple keys (implicitly converted to a tuple of keys) will be deprecated, use a list instead.\n",
            "  \n"
          ]
        }
      ]
    },
    {
      "cell_type": "code",
      "metadata": {
        "colab": {
          "base_uri": "https://localhost:8080/",
          "height": 204
        },
        "id": "V8-Cixep3EKW",
        "outputId": "f2a09771-6bf2-4af9-a996-ac7af18901ab"
      },
      "source": [
        "turnstiles_daily.head()"
      ],
      "execution_count": null,
      "outputs": [
        {
          "output_type": "execute_result",
          "data": {
            "text/html": [
              "<div>\n",
              "<style scoped>\n",
              "    .dataframe tbody tr th:only-of-type {\n",
              "        vertical-align: middle;\n",
              "    }\n",
              "\n",
              "    .dataframe tbody tr th {\n",
              "        vertical-align: top;\n",
              "    }\n",
              "\n",
              "    .dataframe thead th {\n",
              "        text-align: right;\n",
              "    }\n",
              "</style>\n",
              "<table border=\"1\" class=\"dataframe\">\n",
              "  <thead>\n",
              "    <tr style=\"text-align: right;\">\n",
              "      <th></th>\n",
              "      <th>C/A</th>\n",
              "      <th>UNIT</th>\n",
              "      <th>SCP</th>\n",
              "      <th>STATION</th>\n",
              "      <th>DATE</th>\n",
              "      <th>ENTRIES</th>\n",
              "      <th>PREV_DATE</th>\n",
              "      <th>PREV_ENTRIES</th>\n",
              "    </tr>\n",
              "  </thead>\n",
              "  <tbody>\n",
              "    <tr>\n",
              "      <th>0</th>\n",
              "      <td>A002</td>\n",
              "      <td>R051</td>\n",
              "      <td>02-00-00</td>\n",
              "      <td>59 ST</td>\n",
              "      <td>09/26/2020</td>\n",
              "      <td>7463495</td>\n",
              "      <td>NaN</td>\n",
              "      <td>NaN</td>\n",
              "    </tr>\n",
              "    <tr>\n",
              "      <th>1</th>\n",
              "      <td>A002</td>\n",
              "      <td>R051</td>\n",
              "      <td>02-00-00</td>\n",
              "      <td>59 ST</td>\n",
              "      <td>09/27/2020</td>\n",
              "      <td>7463865</td>\n",
              "      <td>09/26/2020</td>\n",
              "      <td>7463495.0</td>\n",
              "    </tr>\n",
              "    <tr>\n",
              "      <th>2</th>\n",
              "      <td>A002</td>\n",
              "      <td>R051</td>\n",
              "      <td>02-00-00</td>\n",
              "      <td>59 ST</td>\n",
              "      <td>09/28/2020</td>\n",
              "      <td>7464115</td>\n",
              "      <td>09/27/2020</td>\n",
              "      <td>7463865.0</td>\n",
              "    </tr>\n",
              "    <tr>\n",
              "      <th>3</th>\n",
              "      <td>A002</td>\n",
              "      <td>R051</td>\n",
              "      <td>02-00-00</td>\n",
              "      <td>59 ST</td>\n",
              "      <td>09/29/2020</td>\n",
              "      <td>7464584</td>\n",
              "      <td>09/28/2020</td>\n",
              "      <td>7464115.0</td>\n",
              "    </tr>\n",
              "    <tr>\n",
              "      <th>4</th>\n",
              "      <td>A002</td>\n",
              "      <td>R051</td>\n",
              "      <td>02-00-00</td>\n",
              "      <td>59 ST</td>\n",
              "      <td>09/30/2020</td>\n",
              "      <td>7465109</td>\n",
              "      <td>09/29/2020</td>\n",
              "      <td>7464584.0</td>\n",
              "    </tr>\n",
              "  </tbody>\n",
              "</table>\n",
              "</div>"
            ],
            "text/plain": [
              "    C/A  UNIT       SCP STATION        DATE  ENTRIES   PREV_DATE  PREV_ENTRIES\n",
              "0  A002  R051  02-00-00   59 ST  09/26/2020  7463495         NaN           NaN\n",
              "1  A002  R051  02-00-00   59 ST  09/27/2020  7463865  09/26/2020     7463495.0\n",
              "2  A002  R051  02-00-00   59 ST  09/28/2020  7464115  09/27/2020     7463865.0\n",
              "3  A002  R051  02-00-00   59 ST  09/29/2020  7464584  09/28/2020     7464115.0\n",
              "4  A002  R051  02-00-00   59 ST  09/30/2020  7465109  09/29/2020     7464584.0"
            ]
          },
          "metadata": {},
          "execution_count": 60
        }
      ]
    },
    {
      "cell_type": "code",
      "metadata": {
        "id": "sNvOABpV3JYh"
      },
      "source": [
        "turnstiles_daily.dropna(subset=[\"PREV_DATE\"], axis=0, inplace=True)"
      ],
      "execution_count": null,
      "outputs": []
    },
    {
      "cell_type": "code",
      "metadata": {
        "colab": {
          "base_uri": "https://localhost:8080/",
          "height": 204
        },
        "id": "sKaZf5Og3Ubg",
        "outputId": "c2efdc59-a304-44eb-a0f5-cec811133a4c"
      },
      "source": [
        "turnstiles_daily[turnstiles_daily[\"ENTRIES\"] < turnstiles_daily[\"PREV_ENTRIES\"]].head()"
      ],
      "execution_count": null,
      "outputs": [
        {
          "output_type": "execute_result",
          "data": {
            "text/html": [
              "<div>\n",
              "<style scoped>\n",
              "    .dataframe tbody tr th:only-of-type {\n",
              "        vertical-align: middle;\n",
              "    }\n",
              "\n",
              "    .dataframe tbody tr th {\n",
              "        vertical-align: top;\n",
              "    }\n",
              "\n",
              "    .dataframe thead th {\n",
              "        text-align: right;\n",
              "    }\n",
              "</style>\n",
              "<table border=\"1\" class=\"dataframe\">\n",
              "  <thead>\n",
              "    <tr style=\"text-align: right;\">\n",
              "      <th></th>\n",
              "      <th>C/A</th>\n",
              "      <th>UNIT</th>\n",
              "      <th>SCP</th>\n",
              "      <th>STATION</th>\n",
              "      <th>DATE</th>\n",
              "      <th>ENTRIES</th>\n",
              "      <th>PREV_DATE</th>\n",
              "      <th>PREV_ENTRIES</th>\n",
              "    </tr>\n",
              "  </thead>\n",
              "  <tbody>\n",
              "    <tr>\n",
              "      <th>3550</th>\n",
              "      <td>A011</td>\n",
              "      <td>R080</td>\n",
              "      <td>01-03-00</td>\n",
              "      <td>57 ST-7 AV</td>\n",
              "      <td>09/27/2020</td>\n",
              "      <td>885650078</td>\n",
              "      <td>09/26/2020</td>\n",
              "      <td>885650204.0</td>\n",
              "    </tr>\n",
              "    <tr>\n",
              "      <th>3551</th>\n",
              "      <td>A011</td>\n",
              "      <td>R080</td>\n",
              "      <td>01-03-00</td>\n",
              "      <td>57 ST-7 AV</td>\n",
              "      <td>09/28/2020</td>\n",
              "      <td>885649990</td>\n",
              "      <td>09/27/2020</td>\n",
              "      <td>885650078.0</td>\n",
              "    </tr>\n",
              "    <tr>\n",
              "      <th>3552</th>\n",
              "      <td>A011</td>\n",
              "      <td>R080</td>\n",
              "      <td>01-03-00</td>\n",
              "      <td>57 ST-7 AV</td>\n",
              "      <td>09/29/2020</td>\n",
              "      <td>885649806</td>\n",
              "      <td>09/28/2020</td>\n",
              "      <td>885649990.0</td>\n",
              "    </tr>\n",
              "    <tr>\n",
              "      <th>3553</th>\n",
              "      <td>A011</td>\n",
              "      <td>R080</td>\n",
              "      <td>01-03-00</td>\n",
              "      <td>57 ST-7 AV</td>\n",
              "      <td>09/30/2020</td>\n",
              "      <td>885649581</td>\n",
              "      <td>09/29/2020</td>\n",
              "      <td>885649806.0</td>\n",
              "    </tr>\n",
              "    <tr>\n",
              "      <th>3554</th>\n",
              "      <td>A011</td>\n",
              "      <td>R080</td>\n",
              "      <td>01-03-00</td>\n",
              "      <td>57 ST-7 AV</td>\n",
              "      <td>10/01/2020</td>\n",
              "      <td>885649356</td>\n",
              "      <td>09/30/2020</td>\n",
              "      <td>885649581.0</td>\n",
              "    </tr>\n",
              "  </tbody>\n",
              "</table>\n",
              "</div>"
            ],
            "text/plain": [
              "       C/A  UNIT       SCP  ...    ENTRIES   PREV_DATE  PREV_ENTRIES\n",
              "3550  A011  R080  01-03-00  ...  885650078  09/26/2020   885650204.0\n",
              "3551  A011  R080  01-03-00  ...  885649990  09/27/2020   885650078.0\n",
              "3552  A011  R080  01-03-00  ...  885649806  09/28/2020   885649990.0\n",
              "3553  A011  R080  01-03-00  ...  885649581  09/29/2020   885649806.0\n",
              "3554  A011  R080  01-03-00  ...  885649356  09/30/2020   885649581.0\n",
              "\n",
              "[5 rows x 8 columns]"
            ]
          },
          "metadata": {},
          "execution_count": 62
        }
      ]
    },
    {
      "cell_type": "code",
      "metadata": {
        "colab": {
          "base_uri": "https://localhost:8080/"
        },
        "id": "Dc70JiQD3nJs",
        "outputId": "bb171eb9-228c-442c-90c3-4cc890539fa1"
      },
      "source": [
        "(turnstiles_daily[turnstiles_daily[\"ENTRIES\"] < turnstiles_daily[\"PREV_ENTRIES\"]].groupby([\"C/A\", \"UNIT\", \"SCP\", \"STATION\"]).size())"
      ],
      "execution_count": null,
      "outputs": [
        {
          "output_type": "execute_result",
          "data": {
            "text/plain": [
              "C/A   UNIT  SCP       STATION        \n",
              "A011  R080  01-03-00  57 ST-7 AV         90\n",
              "A014  R081  02-00-00  49 ST               1\n",
              "A025  R023  01-03-01  34 ST-HERALD SQ     1\n",
              "A039  R085  01-00-00  8 ST-NYU            1\n",
              "            01-03-01  8 ST-NYU            1\n",
              "                                         ..\n",
              "R627  R063  00-03-02  SUTTER AV-RUTLD     1\n",
              "R647  R110  02-05-01  FLATBUSH AV-B.C     2\n",
              "R728  R226  00-00-00  GUN HILL RD         1\n",
              "            00-00-01  GUN HILL RD         1\n",
              "R730  R431  00-00-04  EASTCHSTER/DYRE    90\n",
              "Length: 206, dtype: int64"
            ]
          },
          "metadata": {},
          "execution_count": 63
        }
      ]
    },
    {
      "cell_type": "code",
      "metadata": {
        "colab": {
          "base_uri": "https://localhost:8080/"
        },
        "id": "xT4gwIIg4GXQ",
        "outputId": "cc3a3bc3-7644-460a-b8b1-0d5ddc1ef04b"
      },
      "source": [
        "def get_daily_counts(row, max_counter):\n",
        "    counter = row[\"ENTRIES\"] - row[\"PREV_ENTRIES\"]\n",
        "    if counter < 0:\n",
        "        counter = -counter\n",
        "    if counter > max_counter:\n",
        "        print(row[\"ENTRIES\"], row[\"PREV_ENTRIES\"])\n",
        "        return 0\n",
        "    return counter\n",
        "\n",
        "turnstiles_daily[\"DAILY_ENTRIES\"] = turnstiles_daily.apply(get_daily_counts, axis=1, max_counter=1000000)"
      ],
      "execution_count": null,
      "outputs": [
        {
          "output_type": "stream",
          "name": "stdout",
          "text": [
            "301 3055269.0\n",
            "125 1630880.0\n",
            "5 2642707.0\n",
            "27 3963030.0\n",
            "17 1309708904.0\n",
            "58 2427404.0\n",
            "18 1207629.0\n",
            "97 1197880.0\n",
            "262182 6657224.0\n",
            "1 1264170.0\n",
            "3 6494874.0\n",
            "0 2822587.0\n",
            "524338 67889725.0\n",
            "660 475737962.0\n",
            "119 631050303.0\n",
            "183 3563454.0\n",
            "164 3086977.0\n",
            "22 1073810.0\n",
            "77 15184858.0\n",
            "33567756 143344.0\n",
            "1610558710 10549248.0\n",
            "25 3319790.0\n",
            "106 2493899.0\n",
            "300 7355346.0\n",
            "170 8876685.0\n",
            "1162 2419492.0\n",
            "65 342505060.0\n",
            "134277386 525023.0\n",
            "458768 134277580.0\n",
            "3 3251171.0\n",
            "82 644689531.0\n",
            "186 6817289.0\n",
            "458797 1518041.0\n",
            "23 134569732.0\n",
            "5 2706974.0\n",
            "96 1325340.0\n",
            "76 3732124.0\n",
            "40 1242136653.0\n",
            "208 5912731.0\n",
            "955056232 4994166.0\n",
            "262159 955056815.0\n",
            "524288 6946201.0\n",
            "16 4845685.0\n",
            "917504 67108864.0\n",
            "15 2786841.0\n",
            "275 2867655.0\n",
            "100 1143527.0\n",
            "163 42927133.0\n",
            "15 4112456.0\n",
            "51 5583005.0\n",
            "18 6190574.0\n",
            "351 6289174.0\n",
            "109 2086973.0\n",
            "18 1437665.0\n",
            "625 2888810.0\n",
            "28 13122515.0\n",
            "5 2166564.0\n",
            "37 1031347.0\n",
            "357 5182683.0\n",
            "196 10323540.0\n",
            "10 6428987.0\n",
            "5 7751347.0\n",
            "579 16283598.0\n",
            "96 3463890.0\n",
            "592408 4715178.0\n",
            "60 6478782.0\n",
            "307 3953153.0\n",
            "317 352621137.0\n",
            "65547 2355957.0\n",
            "8 1119045.0\n",
            "1119401 8.0\n",
            "271 1614823.0\n",
            "179 3201434.0\n",
            "22 5621301.0\n",
            "24 3242469.0\n"
          ]
        }
      ]
    },
    {
      "cell_type": "code",
      "metadata": {
        "colab": {
          "base_uri": "https://localhost:8080/",
          "height": 204
        },
        "id": "1ZIL0EbI4WEr",
        "outputId": "795f6d71-68a4-4d45-dc06-36543c4120f1"
      },
      "source": [
        "turnstiles_daily.head()"
      ],
      "execution_count": null,
      "outputs": [
        {
          "output_type": "execute_result",
          "data": {
            "text/html": [
              "<div>\n",
              "<style scoped>\n",
              "    .dataframe tbody tr th:only-of-type {\n",
              "        vertical-align: middle;\n",
              "    }\n",
              "\n",
              "    .dataframe tbody tr th {\n",
              "        vertical-align: top;\n",
              "    }\n",
              "\n",
              "    .dataframe thead th {\n",
              "        text-align: right;\n",
              "    }\n",
              "</style>\n",
              "<table border=\"1\" class=\"dataframe\">\n",
              "  <thead>\n",
              "    <tr style=\"text-align: right;\">\n",
              "      <th></th>\n",
              "      <th>C/A</th>\n",
              "      <th>UNIT</th>\n",
              "      <th>SCP</th>\n",
              "      <th>STATION</th>\n",
              "      <th>DATE</th>\n",
              "      <th>ENTRIES</th>\n",
              "      <th>PREV_DATE</th>\n",
              "      <th>PREV_ENTRIES</th>\n",
              "      <th>DAILY_ENTRIES</th>\n",
              "    </tr>\n",
              "  </thead>\n",
              "  <tbody>\n",
              "    <tr>\n",
              "      <th>1</th>\n",
              "      <td>A002</td>\n",
              "      <td>R051</td>\n",
              "      <td>02-00-00</td>\n",
              "      <td>59 ST</td>\n",
              "      <td>09/27/2020</td>\n",
              "      <td>7463865</td>\n",
              "      <td>09/26/2020</td>\n",
              "      <td>7463495.0</td>\n",
              "      <td>370.0</td>\n",
              "    </tr>\n",
              "    <tr>\n",
              "      <th>2</th>\n",
              "      <td>A002</td>\n",
              "      <td>R051</td>\n",
              "      <td>02-00-00</td>\n",
              "      <td>59 ST</td>\n",
              "      <td>09/28/2020</td>\n",
              "      <td>7464115</td>\n",
              "      <td>09/27/2020</td>\n",
              "      <td>7463865.0</td>\n",
              "      <td>250.0</td>\n",
              "    </tr>\n",
              "    <tr>\n",
              "      <th>3</th>\n",
              "      <td>A002</td>\n",
              "      <td>R051</td>\n",
              "      <td>02-00-00</td>\n",
              "      <td>59 ST</td>\n",
              "      <td>09/29/2020</td>\n",
              "      <td>7464584</td>\n",
              "      <td>09/28/2020</td>\n",
              "      <td>7464115.0</td>\n",
              "      <td>469.0</td>\n",
              "    </tr>\n",
              "    <tr>\n",
              "      <th>4</th>\n",
              "      <td>A002</td>\n",
              "      <td>R051</td>\n",
              "      <td>02-00-00</td>\n",
              "      <td>59 ST</td>\n",
              "      <td>09/30/2020</td>\n",
              "      <td>7465109</td>\n",
              "      <td>09/29/2020</td>\n",
              "      <td>7464584.0</td>\n",
              "      <td>525.0</td>\n",
              "    </tr>\n",
              "    <tr>\n",
              "      <th>5</th>\n",
              "      <td>A002</td>\n",
              "      <td>R051</td>\n",
              "      <td>02-00-00</td>\n",
              "      <td>59 ST</td>\n",
              "      <td>10/01/2020</td>\n",
              "      <td>7465593</td>\n",
              "      <td>09/30/2020</td>\n",
              "      <td>7465109.0</td>\n",
              "      <td>484.0</td>\n",
              "    </tr>\n",
              "  </tbody>\n",
              "</table>\n",
              "</div>"
            ],
            "text/plain": [
              "    C/A  UNIT       SCP  ...   PREV_DATE PREV_ENTRIES  DAILY_ENTRIES\n",
              "1  A002  R051  02-00-00  ...  09/26/2020    7463495.0          370.0\n",
              "2  A002  R051  02-00-00  ...  09/27/2020    7463865.0          250.0\n",
              "3  A002  R051  02-00-00  ...  09/28/2020    7464115.0          469.0\n",
              "4  A002  R051  02-00-00  ...  09/29/2020    7464584.0          525.0\n",
              "5  A002  R051  02-00-00  ...  09/30/2020    7465109.0          484.0\n",
              "\n",
              "[5 rows x 9 columns]"
            ]
          },
          "metadata": {},
          "execution_count": 65
        }
      ]
    },
    {
      "cell_type": "code",
      "metadata": {
        "colab": {
          "base_uri": "https://localhost:8080/",
          "height": 204
        },
        "id": "b2ZVpQlp4loo",
        "outputId": "8d716e8d-69ac-4891-8488-f0c9f2a8de79"
      },
      "source": [
        "ca_unit_station_daily = turnstiles_daily.groupby([\"C/A\", \"UNIT\", \"STATION\", \"DATE\"])[['DAILY_ENTRIES']].sum().reset_index()\n",
        "ca_unit_station_daily.head()"
      ],
      "execution_count": null,
      "outputs": [
        {
          "output_type": "execute_result",
          "data": {
            "text/html": [
              "<div>\n",
              "<style scoped>\n",
              "    .dataframe tbody tr th:only-of-type {\n",
              "        vertical-align: middle;\n",
              "    }\n",
              "\n",
              "    .dataframe tbody tr th {\n",
              "        vertical-align: top;\n",
              "    }\n",
              "\n",
              "    .dataframe thead th {\n",
              "        text-align: right;\n",
              "    }\n",
              "</style>\n",
              "<table border=\"1\" class=\"dataframe\">\n",
              "  <thead>\n",
              "    <tr style=\"text-align: right;\">\n",
              "      <th></th>\n",
              "      <th>C/A</th>\n",
              "      <th>UNIT</th>\n",
              "      <th>STATION</th>\n",
              "      <th>DATE</th>\n",
              "      <th>DAILY_ENTRIES</th>\n",
              "    </tr>\n",
              "  </thead>\n",
              "  <tbody>\n",
              "    <tr>\n",
              "      <th>0</th>\n",
              "      <td>A002</td>\n",
              "      <td>R051</td>\n",
              "      <td>59 ST</td>\n",
              "      <td>09/27/2020</td>\n",
              "      <td>2899.0</td>\n",
              "    </tr>\n",
              "    <tr>\n",
              "      <th>1</th>\n",
              "      <td>A002</td>\n",
              "      <td>R051</td>\n",
              "      <td>59 ST</td>\n",
              "      <td>09/28/2020</td>\n",
              "      <td>2112.0</td>\n",
              "    </tr>\n",
              "    <tr>\n",
              "      <th>2</th>\n",
              "      <td>A002</td>\n",
              "      <td>R051</td>\n",
              "      <td>59 ST</td>\n",
              "      <td>09/29/2020</td>\n",
              "      <td>4084.0</td>\n",
              "    </tr>\n",
              "    <tr>\n",
              "      <th>3</th>\n",
              "      <td>A002</td>\n",
              "      <td>R051</td>\n",
              "      <td>59 ST</td>\n",
              "      <td>09/30/2020</td>\n",
              "      <td>4659.0</td>\n",
              "    </tr>\n",
              "    <tr>\n",
              "      <th>4</th>\n",
              "      <td>A002</td>\n",
              "      <td>R051</td>\n",
              "      <td>59 ST</td>\n",
              "      <td>10/01/2020</td>\n",
              "      <td>4673.0</td>\n",
              "    </tr>\n",
              "  </tbody>\n",
              "</table>\n",
              "</div>"
            ],
            "text/plain": [
              "    C/A  UNIT STATION        DATE  DAILY_ENTRIES\n",
              "0  A002  R051   59 ST  09/27/2020         2899.0\n",
              "1  A002  R051   59 ST  09/28/2020         2112.0\n",
              "2  A002  R051   59 ST  09/29/2020         4084.0\n",
              "3  A002  R051   59 ST  09/30/2020         4659.0\n",
              "4  A002  R051   59 ST  10/01/2020         4673.0"
            ]
          },
          "metadata": {},
          "execution_count": 66
        }
      ]
    },
    {
      "cell_type": "code",
      "metadata": {
        "colab": {
          "base_uri": "https://localhost:8080/",
          "height": 359
        },
        "id": "nTnq_9iw5JY7",
        "outputId": "78d3be9f-1579-40d3-bab4-5a1a9857ceea"
      },
      "source": [
        "station_daily = turnstiles_daily.groupby([\"STATION\", \"DATE\"])[['DAILY_ENTRIES']].sum().reset_index()\n",
        "station_daily.head(10)"
      ],
      "execution_count": null,
      "outputs": [
        {
          "output_type": "execute_result",
          "data": {
            "text/html": [
              "<div>\n",
              "<style scoped>\n",
              "    .dataframe tbody tr th:only-of-type {\n",
              "        vertical-align: middle;\n",
              "    }\n",
              "\n",
              "    .dataframe tbody tr th {\n",
              "        vertical-align: top;\n",
              "    }\n",
              "\n",
              "    .dataframe thead th {\n",
              "        text-align: right;\n",
              "    }\n",
              "</style>\n",
              "<table border=\"1\" class=\"dataframe\">\n",
              "  <thead>\n",
              "    <tr style=\"text-align: right;\">\n",
              "      <th></th>\n",
              "      <th>STATION</th>\n",
              "      <th>DATE</th>\n",
              "      <th>DAILY_ENTRIES</th>\n",
              "    </tr>\n",
              "  </thead>\n",
              "  <tbody>\n",
              "    <tr>\n",
              "      <th>0</th>\n",
              "      <td>1 AV</td>\n",
              "      <td>09/27/2020</td>\n",
              "      <td>5063.0</td>\n",
              "    </tr>\n",
              "    <tr>\n",
              "      <th>1</th>\n",
              "      <td>1 AV</td>\n",
              "      <td>09/28/2020</td>\n",
              "      <td>3761.0</td>\n",
              "    </tr>\n",
              "    <tr>\n",
              "      <th>2</th>\n",
              "      <td>1 AV</td>\n",
              "      <td>09/29/2020</td>\n",
              "      <td>5602.0</td>\n",
              "    </tr>\n",
              "    <tr>\n",
              "      <th>3</th>\n",
              "      <td>1 AV</td>\n",
              "      <td>09/30/2020</td>\n",
              "      <td>6229.0</td>\n",
              "    </tr>\n",
              "    <tr>\n",
              "      <th>4</th>\n",
              "      <td>1 AV</td>\n",
              "      <td>10/01/2020</td>\n",
              "      <td>6571.0</td>\n",
              "    </tr>\n",
              "    <tr>\n",
              "      <th>5</th>\n",
              "      <td>1 AV</td>\n",
              "      <td>10/02/2020</td>\n",
              "      <td>7087.0</td>\n",
              "    </tr>\n",
              "    <tr>\n",
              "      <th>6</th>\n",
              "      <td>1 AV</td>\n",
              "      <td>10/03/2020</td>\n",
              "      <td>7080.0</td>\n",
              "    </tr>\n",
              "    <tr>\n",
              "      <th>7</th>\n",
              "      <td>1 AV</td>\n",
              "      <td>10/04/2020</td>\n",
              "      <td>5331.0</td>\n",
              "    </tr>\n",
              "    <tr>\n",
              "      <th>8</th>\n",
              "      <td>1 AV</td>\n",
              "      <td>10/05/2020</td>\n",
              "      <td>3904.0</td>\n",
              "    </tr>\n",
              "    <tr>\n",
              "      <th>9</th>\n",
              "      <td>1 AV</td>\n",
              "      <td>10/06/2020</td>\n",
              "      <td>6281.0</td>\n",
              "    </tr>\n",
              "  </tbody>\n",
              "</table>\n",
              "</div>"
            ],
            "text/plain": [
              "  STATION        DATE  DAILY_ENTRIES\n",
              "0    1 AV  09/27/2020         5063.0\n",
              "1    1 AV  09/28/2020         3761.0\n",
              "2    1 AV  09/29/2020         5602.0\n",
              "3    1 AV  09/30/2020         6229.0\n",
              "4    1 AV  10/01/2020         6571.0\n",
              "5    1 AV  10/02/2020         7087.0\n",
              "6    1 AV  10/03/2020         7080.0\n",
              "7    1 AV  10/04/2020         5331.0\n",
              "8    1 AV  10/05/2020         3904.0\n",
              "9    1 AV  10/06/2020         6281.0"
            ]
          },
          "metadata": {},
          "execution_count": 67
        }
      ]
    },
    {
      "cell_type": "code",
      "metadata": {
        "colab": {
          "base_uri": "https://localhost:8080/",
          "height": 359
        },
        "id": "12DGSFF95WER",
        "outputId": "f37a9de9-bd16-4a1e-8d12-596acc9b4ca0"
      },
      "source": [
        "station_totals = station_daily.groupby('STATION').sum()\\\n",
        "    .sort_values('DAILY_ENTRIES', ascending=False)\\\n",
        "    .reset_index()\n",
        "\n",
        "station_totals.head(10)"
      ],
      "execution_count": null,
      "outputs": [
        {
          "output_type": "execute_result",
          "data": {
            "text/html": [
              "<div>\n",
              "<style scoped>\n",
              "    .dataframe tbody tr th:only-of-type {\n",
              "        vertical-align: middle;\n",
              "    }\n",
              "\n",
              "    .dataframe tbody tr th {\n",
              "        vertical-align: top;\n",
              "    }\n",
              "\n",
              "    .dataframe thead th {\n",
              "        text-align: right;\n",
              "    }\n",
              "</style>\n",
              "<table border=\"1\" class=\"dataframe\">\n",
              "  <thead>\n",
              "    <tr style=\"text-align: right;\">\n",
              "      <th></th>\n",
              "      <th>STATION</th>\n",
              "      <th>DAILY_ENTRIES</th>\n",
              "    </tr>\n",
              "  </thead>\n",
              "  <tbody>\n",
              "    <tr>\n",
              "      <th>0</th>\n",
              "      <td>34 ST-PENN STA</td>\n",
              "      <td>3082301.0</td>\n",
              "    </tr>\n",
              "    <tr>\n",
              "      <th>1</th>\n",
              "      <td>34 ST-HERALD SQ</td>\n",
              "      <td>2944189.0</td>\n",
              "    </tr>\n",
              "    <tr>\n",
              "      <th>2</th>\n",
              "      <td>59 ST</td>\n",
              "      <td>2289213.0</td>\n",
              "    </tr>\n",
              "    <tr>\n",
              "      <th>3</th>\n",
              "      <td>125 ST</td>\n",
              "      <td>2107892.0</td>\n",
              "    </tr>\n",
              "    <tr>\n",
              "      <th>4</th>\n",
              "      <td>86 ST</td>\n",
              "      <td>2095087.0</td>\n",
              "    </tr>\n",
              "    <tr>\n",
              "      <th>5</th>\n",
              "      <td>CATHEDRAL PKWY</td>\n",
              "      <td>1958771.0</td>\n",
              "    </tr>\n",
              "    <tr>\n",
              "      <th>6</th>\n",
              "      <td>GRD CNTRL-42 ST</td>\n",
              "      <td>1893006.0</td>\n",
              "    </tr>\n",
              "    <tr>\n",
              "      <th>7</th>\n",
              "      <td>PATH NEW WTC</td>\n",
              "      <td>1883282.0</td>\n",
              "    </tr>\n",
              "    <tr>\n",
              "      <th>8</th>\n",
              "      <td>14 ST-UNION SQ</td>\n",
              "      <td>1872849.0</td>\n",
              "    </tr>\n",
              "    <tr>\n",
              "      <th>9</th>\n",
              "      <td>23 ST</td>\n",
              "      <td>1856797.0</td>\n",
              "    </tr>\n",
              "  </tbody>\n",
              "</table>\n",
              "</div>"
            ],
            "text/plain": [
              "           STATION  DAILY_ENTRIES\n",
              "0   34 ST-PENN STA      3082301.0\n",
              "1  34 ST-HERALD SQ      2944189.0\n",
              "2            59 ST      2289213.0\n",
              "3           125 ST      2107892.0\n",
              "4            86 ST      2095087.0\n",
              "5   CATHEDRAL PKWY      1958771.0\n",
              "6  GRD CNTRL-42 ST      1893006.0\n",
              "7     PATH NEW WTC      1883282.0\n",
              "8   14 ST-UNION SQ      1872849.0\n",
              "9            23 ST      1856797.0"
            ]
          },
          "metadata": {},
          "execution_count": 68
        }
      ]
    },
    {
      "cell_type": "code",
      "metadata": {
        "id": "R3lBiIvRFH2k"
      },
      "source": [
        "st= station_totals.head(10)"
      ],
      "execution_count": null,
      "outputs": []
    },
    {
      "cell_type": "code",
      "metadata": {
        "colab": {
          "base_uri": "https://localhost:8080/"
        },
        "id": "7-bN5Vu2Hv2g",
        "outputId": "941dbf12-8b95-4211-97a3-811f254af6e4"
      },
      "source": [
        "station_totals.isna().sum()"
      ],
      "execution_count": null,
      "outputs": [
        {
          "output_type": "execute_result",
          "data": {
            "text/plain": [
              "STATION          0\n",
              "DAILY_ENTRIES    0\n",
              "dtype: int64"
            ]
          },
          "metadata": {},
          "execution_count": 70
        }
      ]
    },
    {
      "cell_type": "markdown",
      "metadata": {
        "id": "9WFaHVAVfO_f"
      },
      "source": [
        "#Finding the MTA Station with the highest entries number to map it to the highest crime rate station in the second dataset."
      ]
    },
    {
      "cell_type": "code",
      "metadata": {
        "colab": {
          "base_uri": "https://localhost:8080/",
          "height": 360
        },
        "id": "FG1yuHiu7dLF",
        "outputId": "f9688c18-038e-4769-a69a-23308f229251"
      },
      "source": [
        "plt.figure(figsize=[8,5])\n",
        "ax = sns.barplot(data= station_totals.head(10).reset_index(),x='DAILY_ENTRIES',y='STATION',palette=\"RdBu\")\n",
        "plt.xlabel('Total Traffic',weight='bold',fontsize=15)\n",
        "plt.ylabel('Top Stations',weight='bold',fontsize=15)\n",
        "plt.title(' The Busiest MTA Stations in Oct, Nov, Dec 2020', weight='bold', fontsize='20')\n",
        "sns.despine()\n",
        "plt.savefig('barplot.png',transparent=True, bbox_inches='tight')"
      ],
      "execution_count": null,
      "outputs": [
        {
          "output_type": "display_data",
          "data": {
            "image/png": "[encoded data removed]",
            "text/plain": [
              "<Figure size 576x360 with 1 Axes>"
            ]
          },
          "metadata": {
            "needs_background": "light"
          }
        }
      ]
    },
    {
      "cell_type": "code",
      "metadata": {
        "colab": {
          "base_uri": "https://localhost:8080/",
          "height": 360
        },
        "id": "FXgLCRE7VDZi",
        "outputId": "bf684543-9a32-4242-aff1-0b2b80899afc"
      },
      "source": [
        "plt.figure(figsize=[8,5])\n",
        "ax = sns.barplot(data= station_totals.head(10).reset_index(),x='DAILY_ENTRIES',y='STATION',palette=\"RdBu\")\n",
        "plt.xlabel('Total Traffic',weight='bold',fontsize=15)\n",
        "plt.ylabel('Top Stations',weight='bold',fontsize=15)\n",
        "plt.xticks(range(0,400001,50000),[str(int(i/1000))+'k' for i in range(0,400001,50000)])\n",
        "plt.title(' The Busiest MTA Stations in Oct, Nov, Dec 2020', weight='bold', fontsize='20')\n",
        "for p in ax.patches:\n",
        "       ax.annotate(str(int(p.get_width()/1000))+'k', (p.get_width(), p.get_y()+0.5))\n",
        "sns.despine()\n",
        "plt.savefig('barplot.png',transparent=True, bbox_inches='tight')"
      ],
      "execution_count": null,
      "outputs": [
        {
          "output_type": "display_data",
          "data": {
            "image/png": "[encoded data removed]",
            "text/plain": [
              "<Figure size 576x360 with 1 Axes>"
            ]
          },
          "metadata": {
            "needs_background": "light"
          }
        }
      ]
    },
    {
      "cell_type": "markdown",
      "metadata": {
        "id": "_sLAniYmfkCF"
      },
      "source": [
        "Finding The time where those stations have the highest traffic to map it with the result of the highest crime rate stations."
      ]
    },
    {
      "cell_type": "markdown",
      "metadata": {
        "id": "HnG2zUsC8f2n"
      },
      "source": [
        "\n",
        "\n",
        "```\n",
        "```\n",
        "\n",
        "\n",
        "---\n",
        "\n",
        "\n",
        "\n",
        "---\n",
        "#Crimes_Dataset_Analysis\n"
      ]
    },
    {
      "cell_type": "code",
      "metadata": {
        "id": "u_goSH1dDFYk"
      },
      "source": [
        "import numpy as np\n",
        "import pandas as pd\n",
        "import time\n",
        "import sqlite3 as sql"
      ],
      "execution_count": null,
      "outputs": []
    },
    {
      "cell_type": "code",
      "metadata": {
        "id": "ofhPdrzWpQcM"
      },
      "source": [
        "conn = sql.connect(\"ss.db\")"
      ],
      "execution_count": 88,
      "outputs": []
    },
    {
      "cell_type": "code",
      "metadata": {
        "id": "Bz-Zo548pXdp"
      },
      "source": [
        "sql= \"\"\" SELECT * FROM NYPD_Complaint \"\"\""
      ],
      "execution_count": null,
      "outputs": []
    },
    {
      "cell_type": "code",
      "metadata": {
        "colab": {
          "base_uri": "https://localhost:8080/",
          "height": 35
        },
        "id": "tyfG8MO5qqNB",
        "outputId": "07094178-1320-43d0-d796-8d2742c6304f"
      },
      "source": [
        "sql"
      ],
      "execution_count": null,
      "outputs": [
        {
          "output_type": "execute_result",
          "data": {
            "application/vnd.google.colaboratory.intrinsic+json": {
              "type": "string"
            },
            "text/plain": [
              "' SELECT * FROM NYPD_Complaint '"
            ]
          },
          "metadata": {},
          "execution_count": 80
        }
      ]
    },
    {
      "cell_type": "code",
      "metadata": {
        "id": "3zJ-3-i0pds8"
      },
      "source": [
        "df3= pd.read_sql( 'SELECT * FROM NYPD_Complaint' , sql.connect(\"ss.db\"))"
      ],
      "execution_count": 98,
      "outputs": []
    },
    {
      "cell_type": "code",
      "metadata": {
        "colab": {
          "base_uri": "https://localhost:8080/",
          "height": 343
        },
        "id": "zY83LKcFpohb",
        "outputId": "2988f7d6-8ebe-4fdb-ea70-74826034c826"
      },
      "source": [
        "df3.head()"
      ],
      "execution_count": 99,
      "outputs": [
        {
          "output_type": "execute_result",
          "data": {
            "text/html": [
              "<div>\n",
              "<style scoped>\n",
              "    .dataframe tbody tr th:only-of-type {\n",
              "        vertical-align: middle;\n",
              "    }\n",
              "\n",
              "    .dataframe tbody tr th {\n",
              "        vertical-align: top;\n",
              "    }\n",
              "\n",
              "    .dataframe thead th {\n",
              "        text-align: right;\n",
              "    }\n",
              "</style>\n",
              "<table border=\"1\" class=\"dataframe\">\n",
              "  <thead>\n",
              "    <tr style=\"text-align: right;\">\n",
              "      <th></th>\n",
              "      <th>CMPLNT_NUM</th>\n",
              "      <th>CMPLNT_FR_DT</th>\n",
              "      <th>CMPLNT_FR_TM</th>\n",
              "      <th>CMPLNT_TO_DT</th>\n",
              "      <th>CMPLNT_TO_TM</th>\n",
              "      <th>ADDR_PCT_CD</th>\n",
              "      <th>RPT_DT</th>\n",
              "      <th>KY_CD</th>\n",
              "      <th>OFNS_DESC</th>\n",
              "      <th>PD_CD</th>\n",
              "      <th>PD_DESC</th>\n",
              "      <th>CRM_ATPT_CPTD_CD</th>\n",
              "      <th>LAW_CAT_CD</th>\n",
              "      <th>BORO_NM</th>\n",
              "      <th>LOC_OF_OCCUR_DESC</th>\n",
              "      <th>PREM_TYP_DESC</th>\n",
              "      <th>JURIS_DESC</th>\n",
              "      <th>JURISDICTION_CODE</th>\n",
              "      <th>PARKS_NM</th>\n",
              "      <th>HADEVELOPT</th>\n",
              "      <th>HOUSING_PSA</th>\n",
              "      <th>X_COORD_CD</th>\n",
              "      <th>Y_COORD_CD</th>\n",
              "      <th>SUSP_AGE_GROUP</th>\n",
              "      <th>SUSP_RACE</th>\n",
              "      <th>SUSP_SEX</th>\n",
              "      <th>TRANSIT_DISTRICT</th>\n",
              "      <th>Latitude</th>\n",
              "      <th>Longitude</th>\n",
              "      <th>Lat_Lon</th>\n",
              "      <th>PATROL_BORO</th>\n",
              "      <th>STATION_NAME</th>\n",
              "      <th>VIC_AGE_GROUP</th>\n",
              "      <th>VIC_RACE</th>\n",
              "      <th>VIC_SEX</th>\n",
              "      <th>field36</th>\n",
              "      <th>field37</th>\n",
              "      <th>field38</th>\n",
              "      <th>field39</th>\n",
              "    </tr>\n",
              "  </thead>\n",
              "  <tbody>\n",
              "    <tr>\n",
              "      <th>0</th>\n",
              "      <td>437035202</td>\n",
              "      <td>10/03/2020</td>\n",
              "      <td>13:07:00</td>\n",
              "      <td>None</td>\n",
              "      <td>None</td>\n",
              "      <td>69</td>\n",
              "      <td>10/03/2020</td>\n",
              "      <td>101</td>\n",
              "      <td>MURDER &amp; NON-NEGL. MANSLAUGHTER</td>\n",
              "      <td>None</td>\n",
              "      <td>None</td>\n",
              "      <td>COMPLETED</td>\n",
              "      <td>FELONY</td>\n",
              "      <td>None</td>\n",
              "      <td>OUTSIDE</td>\n",
              "      <td>None</td>\n",
              "      <td>N.Y. POLICE DEPT</td>\n",
              "      <td>None</td>\n",
              "      <td>None</td>\n",
              "      <td>None</td>\n",
              "      <td>None</td>\n",
              "      <td>1012601</td>\n",
              "      <td>175402</td>\n",
              "      <td>None</td>\n",
              "      <td>None</td>\n",
              "      <td>None</td>\n",
              "      <td>None</td>\n",
              "      <td>40.64807745300004</td>\n",
              "      <td>-73.89783444799998</td>\n",
              "      <td>\"(40.64807745300004</td>\n",
              "      <td>-73.89783444799998)\"</td>\n",
              "      <td>None</td>\n",
              "      <td>None</td>\n",
              "      <td>18-24</td>\n",
              "      <td>BLACK</td>\n",
              "      <td>M</td>\n",
              "      <td>None</td>\n",
              "      <td>None</td>\n",
              "      <td>None</td>\n",
              "    </tr>\n",
              "    <tr>\n",
              "      <th>1</th>\n",
              "      <td>671080167</td>\n",
              "      <td>10/03/2020</td>\n",
              "      <td>00:34:00</td>\n",
              "      <td>10/03/2020</td>\n",
              "      <td>00:35:00</td>\n",
              "      <td>20</td>\n",
              "      <td>10/03/2020</td>\n",
              "      <td>105</td>\n",
              "      <td>ROBBERY</td>\n",
              "      <td>384</td>\n",
              "      <td>\"ROBBERY</td>\n",
              "      <td>POCKETBOOK/CARRIED BAG\"</td>\n",
              "      <td>COMPLETED</td>\n",
              "      <td>FELONY</td>\n",
              "      <td>MANHATTAN</td>\n",
              "      <td>FRONT OF</td>\n",
              "      <td>STREET</td>\n",
              "      <td>N.Y. POLICE DEPT</td>\n",
              "      <td>0</td>\n",
              "      <td>None</td>\n",
              "      <td>None</td>\n",
              "      <td>None</td>\n",
              "      <td>989408</td>\n",
              "      <td>223070</td>\n",
              "      <td>25-44</td>\n",
              "      <td>WHITE</td>\n",
              "      <td>M</td>\n",
              "      <td>None</td>\n",
              "      <td>40.77895861400003</td>\n",
              "      <td>-73.98137730999997</td>\n",
              "      <td>\"(40.77895861400003</td>\n",
              "      <td>-73.98137730999997)\"</td>\n",
              "      <td>PATROL BORO MAN NORTH</td>\n",
              "      <td>None</td>\n",
              "      <td>18-24</td>\n",
              "      <td>WHITE</td>\n",
              "      <td>F</td>\n",
              "      <td>None</td>\n",
              "      <td>None</td>\n",
              "    </tr>\n",
              "    <tr>\n",
              "      <th>2</th>\n",
              "      <td>697548695</td>\n",
              "      <td>10/03/2020</td>\n",
              "      <td>05:14:00</td>\n",
              "      <td>12/30/2020</td>\n",
              "      <td>20:34:00</td>\n",
              "      <td>23</td>\n",
              "      <td>12/30/2020</td>\n",
              "      <td>361</td>\n",
              "      <td>OFF. AGNST PUB ORD SENSBLTY &amp;</td>\n",
              "      <td>639</td>\n",
              "      <td>AGGRAVATED HARASSMENT 2</td>\n",
              "      <td>COMPLETED</td>\n",
              "      <td>MISDEMEANOR</td>\n",
              "      <td>MANHATTAN</td>\n",
              "      <td>INSIDE</td>\n",
              "      <td>RESIDENCE - PUBLIC HOUSING</td>\n",
              "      <td>N.Y. HOUSING POLICE</td>\n",
              "      <td>2</td>\n",
              "      <td>None</td>\n",
              "      <td>None</td>\n",
              "      <td>664</td>\n",
              "      <td>998869</td>\n",
              "      <td>230618</td>\n",
              "      <td>UNKNOWN</td>\n",
              "      <td>UNKNOWN</td>\n",
              "      <td>U</td>\n",
              "      <td>None</td>\n",
              "      <td>40.799665264000055</td>\n",
              "      <td>-73.94719977999995</td>\n",
              "      <td>\"(40.799665264000055</td>\n",
              "      <td>-73.94719977999995)\"</td>\n",
              "      <td>PATROL BORO MAN NORTH</td>\n",
              "      <td>None</td>\n",
              "      <td>25-44</td>\n",
              "      <td>UNKNOWN</td>\n",
              "      <td>F</td>\n",
              "      <td>None</td>\n",
              "      <td>None</td>\n",
              "      <td>None</td>\n",
              "    </tr>\n",
              "    <tr>\n",
              "      <th>3</th>\n",
              "      <td>849203188</td>\n",
              "      <td>10/03/2020</td>\n",
              "      <td>01:07:00</td>\n",
              "      <td>10/03/2020</td>\n",
              "      <td>03:30:00</td>\n",
              "      <td>61</td>\n",
              "      <td>12/23/2020</td>\n",
              "      <td>114</td>\n",
              "      <td>ARSON</td>\n",
              "      <td>264</td>\n",
              "      <td>\"ARSON</td>\n",
              "      <td>MOTOR VEHICLE 1 2 3 &amp; 4\"</td>\n",
              "      <td>COMPLETED</td>\n",
              "      <td>FELONY</td>\n",
              "      <td>BROOKLYN</td>\n",
              "      <td>FRONT OF</td>\n",
              "      <td>STREET</td>\n",
              "      <td>OTHER</td>\n",
              "      <td>97</td>\n",
              "      <td>None</td>\n",
              "      <td>None</td>\n",
              "      <td>None</td>\n",
              "      <td>1002930</td>\n",
              "      <td>153521</td>\n",
              "      <td>UNKNOWN</td>\n",
              "      <td>UNKNOWN</td>\n",
              "      <td>M</td>\n",
              "      <td>None</td>\n",
              "      <td>40.58804433800003</td>\n",
              "      <td>-73.93274583799997</td>\n",
              "      <td>\"(40.58804433800003</td>\n",
              "      <td>-73.93274583799997)\"</td>\n",
              "      <td>PATROL BORO BKLYN SOUTH</td>\n",
              "      <td>None</td>\n",
              "      <td>45-64</td>\n",
              "      <td>WHITE</td>\n",
              "      <td>F</td>\n",
              "      <td>None</td>\n",
              "      <td>None</td>\n",
              "    </tr>\n",
              "    <tr>\n",
              "      <th>4</th>\n",
              "      <td>529878300</td>\n",
              "      <td>10/03/2020</td>\n",
              "      <td>13:00:00</td>\n",
              "      <td>10/03/2020</td>\n",
              "      <td>16:00:00</td>\n",
              "      <td>114</td>\n",
              "      <td>12/21/2020</td>\n",
              "      <td>116</td>\n",
              "      <td>SEX CRIMES</td>\n",
              "      <td>168</td>\n",
              "      <td>SODOMY 1</td>\n",
              "      <td>COMPLETED</td>\n",
              "      <td>FELONY</td>\n",
              "      <td>QUEENS</td>\n",
              "      <td>INSIDE</td>\n",
              "      <td>RESIDENCE - APT. HOUSE</td>\n",
              "      <td>N.Y. POLICE DEPT</td>\n",
              "      <td>0</td>\n",
              "      <td>None</td>\n",
              "      <td>None</td>\n",
              "      <td>None</td>\n",
              "      <td>1007654</td>\n",
              "      <td>219564</td>\n",
              "      <td>&lt;18</td>\n",
              "      <td>UNKNOWN</td>\n",
              "      <td>M</td>\n",
              "      <td>None</td>\n",
              "      <td>40.76930608700008</td>\n",
              "      <td>-73.91550817999997</td>\n",
              "      <td>\"(40.76930608700008</td>\n",
              "      <td>-73.91550817999997)\"</td>\n",
              "      <td>PATROL BORO QUEENS NORTH</td>\n",
              "      <td>None</td>\n",
              "      <td>&lt;18</td>\n",
              "      <td>WHITE</td>\n",
              "      <td>F</td>\n",
              "      <td>None</td>\n",
              "      <td>None</td>\n",
              "      <td>None</td>\n",
              "    </tr>\n",
              "  </tbody>\n",
              "</table>\n",
              "</div>"
            ],
            "text/plain": [
              "   CMPLNT_NUM CMPLNT_FR_DT CMPLNT_FR_TM  ... field37 field38  field39\n",
              "0   437035202   10/03/2020     13:07:00  ...    None    None     None\n",
              "1   671080167   10/03/2020     00:34:00  ...       F    None     None\n",
              "2   697548695   10/03/2020     05:14:00  ...    None    None     None\n",
              "3   849203188   10/03/2020     01:07:00  ...       F    None     None\n",
              "4   529878300   10/03/2020     13:00:00  ...    None    None     None\n",
              "\n",
              "[5 rows x 39 columns]"
            ]
          },
          "metadata": {},
          "execution_count": 99
        }
      ]
    },
    {
      "cell_type": "markdown",
      "metadata": {
        "id": "HB_RqXuapPFp"
      },
      "source": [
        "Note: \n",
        "For the crimes dataset I got it from NYPD open data and this is not the whole dataset, I filtered it before downloding and chose the crimes that only happened at the period of 3 months \"The same months that I got from the MTA dataset\" and occured in the top 10 bussiest stations."
      ]
    },
    {
      "cell_type": "code",
      "metadata": {
        "id": "cCQse4NPi3YS"
      },
      "source": [
        " Crimes = pd.read_csv('NYPD_Complaint_Data_Historic (1).csv')\n",
        " crimes_rate = pd.DataFrame(Crimes)"
      ],
      "execution_count": null,
      "outputs": []
    },
    {
      "cell_type": "code",
      "metadata": {
        "colab": {
          "base_uri": "https://localhost:8080/",
          "height": 411
        },
        "id": "Thw-HeagnDMS",
        "outputId": "3302ab40-9b5a-4f34-b322-7f8ca0364b6d"
      },
      "source": [
        "crimes_rate.head()"
      ],
      "execution_count": null,
      "outputs": [
        {
          "output_type": "execute_result",
          "data": {
            "text/html": [
              "<div>\n",
              "<style scoped>\n",
              "    .dataframe tbody tr th:only-of-type {\n",
              "        vertical-align: middle;\n",
              "    }\n",
              "\n",
              "    .dataframe tbody tr th {\n",
              "        vertical-align: top;\n",
              "    }\n",
              "\n",
              "    .dataframe thead th {\n",
              "        text-align: right;\n",
              "    }\n",
              "</style>\n",
              "<table border=\"1\" class=\"dataframe\">\n",
              "  <thead>\n",
              "    <tr style=\"text-align: right;\">\n",
              "      <th></th>\n",
              "      <th>CMPLNT_NUM</th>\n",
              "      <th>CMPLNT_FR_DT</th>\n",
              "      <th>CMPLNT_FR_TM</th>\n",
              "      <th>CMPLNT_TO_DT</th>\n",
              "      <th>CMPLNT_TO_TM</th>\n",
              "      <th>ADDR_PCT_CD</th>\n",
              "      <th>RPT_DT</th>\n",
              "      <th>KY_CD</th>\n",
              "      <th>OFNS_DESC</th>\n",
              "      <th>PD_CD</th>\n",
              "      <th>PD_DESC</th>\n",
              "      <th>CRM_ATPT_CPTD_CD</th>\n",
              "      <th>LAW_CAT_CD</th>\n",
              "      <th>BORO_NM</th>\n",
              "      <th>LOC_OF_OCCUR_DESC</th>\n",
              "      <th>PREM_TYP_DESC</th>\n",
              "      <th>JURIS_DESC</th>\n",
              "      <th>JURISDICTION_CODE</th>\n",
              "      <th>PARKS_NM</th>\n",
              "      <th>HADEVELOPT</th>\n",
              "      <th>HOUSING_PSA</th>\n",
              "      <th>X_COORD_CD</th>\n",
              "      <th>Y_COORD_CD</th>\n",
              "      <th>SUSP_AGE_GROUP</th>\n",
              "      <th>SUSP_RACE</th>\n",
              "      <th>SUSP_SEX</th>\n",
              "      <th>TRANSIT_DISTRICT</th>\n",
              "      <th>Latitude</th>\n",
              "      <th>Longitude</th>\n",
              "      <th>Lat_Lon</th>\n",
              "      <th>PATROL_BORO</th>\n",
              "      <th>STATION_NAME</th>\n",
              "      <th>VIC_AGE_GROUP</th>\n",
              "      <th>VIC_RACE</th>\n",
              "      <th>VIC_SEX</th>\n",
              "    </tr>\n",
              "  </thead>\n",
              "  <tbody>\n",
              "    <tr>\n",
              "      <th>0</th>\n",
              "      <td>437035202</td>\n",
              "      <td>10/03/2020</td>\n",
              "      <td>13:07:00</td>\n",
              "      <td>NaN</td>\n",
              "      <td>NaN</td>\n",
              "      <td>69</td>\n",
              "      <td>10/03/2020</td>\n",
              "      <td>101</td>\n",
              "      <td>MURDER &amp; NON-NEGL. MANSLAUGHTER</td>\n",
              "      <td>NaN</td>\n",
              "      <td>NaN</td>\n",
              "      <td>COMPLETED</td>\n",
              "      <td>FELONY</td>\n",
              "      <td>NaN</td>\n",
              "      <td>OUTSIDE</td>\n",
              "      <td>NaN</td>\n",
              "      <td>N.Y. POLICE DEPT</td>\n",
              "      <td>NaN</td>\n",
              "      <td>NaN</td>\n",
              "      <td>NaN</td>\n",
              "      <td>NaN</td>\n",
              "      <td>1012601</td>\n",
              "      <td>175402</td>\n",
              "      <td>NaN</td>\n",
              "      <td>NaN</td>\n",
              "      <td>NaN</td>\n",
              "      <td>NaN</td>\n",
              "      <td>40.648077</td>\n",
              "      <td>-73.897834</td>\n",
              "      <td>(40.64807745300004, -73.89783444799998)</td>\n",
              "      <td>NaN</td>\n",
              "      <td>NaN</td>\n",
              "      <td>18-24</td>\n",
              "      <td>BLACK</td>\n",
              "      <td>M</td>\n",
              "    </tr>\n",
              "    <tr>\n",
              "      <th>1</th>\n",
              "      <td>671080167</td>\n",
              "      <td>10/03/2020</td>\n",
              "      <td>00:34:00</td>\n",
              "      <td>10/03/2020</td>\n",
              "      <td>00:35:00</td>\n",
              "      <td>20</td>\n",
              "      <td>10/03/2020</td>\n",
              "      <td>105</td>\n",
              "      <td>ROBBERY</td>\n",
              "      <td>384.0</td>\n",
              "      <td>ROBBERY,POCKETBOOK/CARRIED BAG</td>\n",
              "      <td>COMPLETED</td>\n",
              "      <td>FELONY</td>\n",
              "      <td>MANHATTAN</td>\n",
              "      <td>FRONT OF</td>\n",
              "      <td>STREET</td>\n",
              "      <td>N.Y. POLICE DEPT</td>\n",
              "      <td>0.0</td>\n",
              "      <td>NaN</td>\n",
              "      <td>NaN</td>\n",
              "      <td>NaN</td>\n",
              "      <td>989408</td>\n",
              "      <td>223070</td>\n",
              "      <td>25-44</td>\n",
              "      <td>WHITE</td>\n",
              "      <td>M</td>\n",
              "      <td>NaN</td>\n",
              "      <td>40.778959</td>\n",
              "      <td>-73.981377</td>\n",
              "      <td>(40.77895861400003, -73.98137730999997)</td>\n",
              "      <td>PATROL BORO MAN NORTH</td>\n",
              "      <td>NaN</td>\n",
              "      <td>18-24</td>\n",
              "      <td>WHITE</td>\n",
              "      <td>F</td>\n",
              "    </tr>\n",
              "    <tr>\n",
              "      <th>2</th>\n",
              "      <td>697548695</td>\n",
              "      <td>10/03/2020</td>\n",
              "      <td>05:14:00</td>\n",
              "      <td>12/30/2020</td>\n",
              "      <td>20:34:00</td>\n",
              "      <td>23</td>\n",
              "      <td>12/30/2020</td>\n",
              "      <td>361</td>\n",
              "      <td>OFF. AGNST PUB ORD SENSBLTY &amp;</td>\n",
              "      <td>639.0</td>\n",
              "      <td>AGGRAVATED HARASSMENT 2</td>\n",
              "      <td>COMPLETED</td>\n",
              "      <td>MISDEMEANOR</td>\n",
              "      <td>MANHATTAN</td>\n",
              "      <td>INSIDE</td>\n",
              "      <td>RESIDENCE - PUBLIC HOUSING</td>\n",
              "      <td>N.Y. HOUSING POLICE</td>\n",
              "      <td>2.0</td>\n",
              "      <td>NaN</td>\n",
              "      <td>NaN</td>\n",
              "      <td>664.0</td>\n",
              "      <td>998869</td>\n",
              "      <td>230618</td>\n",
              "      <td>UNKNOWN</td>\n",
              "      <td>UNKNOWN</td>\n",
              "      <td>U</td>\n",
              "      <td>NaN</td>\n",
              "      <td>40.799665</td>\n",
              "      <td>-73.947200</td>\n",
              "      <td>(40.799665264000055, -73.94719977999995)</td>\n",
              "      <td>PATROL BORO MAN NORTH</td>\n",
              "      <td>NaN</td>\n",
              "      <td>25-44</td>\n",
              "      <td>UNKNOWN</td>\n",
              "      <td>F</td>\n",
              "    </tr>\n",
              "    <tr>\n",
              "      <th>3</th>\n",
              "      <td>849203188</td>\n",
              "      <td>10/03/2020</td>\n",
              "      <td>01:07:00</td>\n",
              "      <td>10/03/2020</td>\n",
              "      <td>03:30:00</td>\n",
              "      <td>61</td>\n",
              "      <td>12/23/2020</td>\n",
              "      <td>114</td>\n",
              "      <td>ARSON</td>\n",
              "      <td>264.0</td>\n",
              "      <td>ARSON, MOTOR VEHICLE 1 2 3 &amp; 4</td>\n",
              "      <td>COMPLETED</td>\n",
              "      <td>FELONY</td>\n",
              "      <td>BROOKLYN</td>\n",
              "      <td>FRONT OF</td>\n",
              "      <td>STREET</td>\n",
              "      <td>OTHER</td>\n",
              "      <td>97.0</td>\n",
              "      <td>NaN</td>\n",
              "      <td>NaN</td>\n",
              "      <td>NaN</td>\n",
              "      <td>1002930</td>\n",
              "      <td>153521</td>\n",
              "      <td>UNKNOWN</td>\n",
              "      <td>UNKNOWN</td>\n",
              "      <td>M</td>\n",
              "      <td>NaN</td>\n",
              "      <td>40.588044</td>\n",
              "      <td>-73.932746</td>\n",
              "      <td>(40.58804433800003, -73.93274583799997)</td>\n",
              "      <td>PATROL BORO BKLYN SOUTH</td>\n",
              "      <td>NaN</td>\n",
              "      <td>45-64</td>\n",
              "      <td>WHITE</td>\n",
              "      <td>F</td>\n",
              "    </tr>\n",
              "    <tr>\n",
              "      <th>4</th>\n",
              "      <td>529878300</td>\n",
              "      <td>10/03/2020</td>\n",
              "      <td>13:00:00</td>\n",
              "      <td>10/03/2020</td>\n",
              "      <td>16:00:00</td>\n",
              "      <td>114</td>\n",
              "      <td>12/21/2020</td>\n",
              "      <td>116</td>\n",
              "      <td>SEX CRIMES</td>\n",
              "      <td>168.0</td>\n",
              "      <td>SODOMY 1</td>\n",
              "      <td>COMPLETED</td>\n",
              "      <td>FELONY</td>\n",
              "      <td>QUEENS</td>\n",
              "      <td>INSIDE</td>\n",
              "      <td>RESIDENCE - APT. HOUSE</td>\n",
              "      <td>N.Y. POLICE DEPT</td>\n",
              "      <td>0.0</td>\n",
              "      <td>NaN</td>\n",
              "      <td>NaN</td>\n",
              "      <td>NaN</td>\n",
              "      <td>1007654</td>\n",
              "      <td>219564</td>\n",
              "      <td>&lt;18</td>\n",
              "      <td>UNKNOWN</td>\n",
              "      <td>M</td>\n",
              "      <td>NaN</td>\n",
              "      <td>40.769306</td>\n",
              "      <td>-73.915508</td>\n",
              "      <td>(40.76930608700008, -73.91550817999997)</td>\n",
              "      <td>PATROL BORO QUEENS NORTH</td>\n",
              "      <td>NaN</td>\n",
              "      <td>&lt;18</td>\n",
              "      <td>WHITE</td>\n",
              "      <td>F</td>\n",
              "    </tr>\n",
              "  </tbody>\n",
              "</table>\n",
              "</div>"
            ],
            "text/plain": [
              "   CMPLNT_NUM CMPLNT_FR_DT CMPLNT_FR_TM  ... VIC_AGE_GROUP VIC_RACE  VIC_SEX\n",
              "0   437035202   10/03/2020     13:07:00  ...         18-24    BLACK        M\n",
              "1   671080167   10/03/2020     00:34:00  ...         18-24    WHITE        F\n",
              "2   697548695   10/03/2020     05:14:00  ...         25-44  UNKNOWN        F\n",
              "3   849203188   10/03/2020     01:07:00  ...         45-64    WHITE        F\n",
              "4   529878300   10/03/2020     13:00:00  ...           <18    WHITE        F\n",
              "\n",
              "[5 rows x 35 columns]"
            ]
          },
          "metadata": {},
          "execution_count": 76
        }
      ]
    },
    {
      "cell_type": "code",
      "metadata": {
        "colab": {
          "base_uri": "https://localhost:8080/"
        },
        "id": "Kh1FgzlaF1C1",
        "outputId": "b6a34a5d-1859-4db9-af49-4ea7b4e74d0f"
      },
      "source": [
        "!ls -a"
      ],
      "execution_count": null,
      "outputs": [
        {
          "output_type": "stream",
          "name": "stdout",
          "text": [
            " .    barplot.png  'NYPD_Complaint_Data_Historic (1).csv'   ss.db\n",
            " ..   .config\t    sample_data\n"
          ]
        }
      ]
    },
    {
      "cell_type": "code",
      "metadata": {
        "colab": {
          "base_uri": "https://localhost:8080/"
        },
        "id": "mWztH6Qqp6hA",
        "outputId": "4793942f-36be-4807-8ec4-7b6d1d8c2745"
      },
      "source": [
        "type(Crimes)"
      ],
      "execution_count": null,
      "outputs": [
        {
          "output_type": "execute_result",
          "data": {
            "text/plain": [
              "pandas.core.frame.DataFrame"
            ]
          },
          "metadata": {},
          "execution_count": 78
        }
      ]
    },
    {
      "cell_type": "code",
      "metadata": {
        "id": "bLl2JVdRHgTH"
      },
      "source": [
        "crimes_rate.isna().sum()"
      ],
      "execution_count": null,
      "outputs": []
    },
    {
      "cell_type": "code",
      "metadata": {
        "id": "ZeVp42X5HqWI"
      },
      "source": [
        "bf.isna().sum()"
      ],
      "execution_count": null,
      "outputs": []
    },
    {
      "cell_type": "code",
      "metadata": {
        "id": "lW0tsorqE65A"
      },
      "source": [
        "crimes_rate.isna().sum().sum()"
      ],
      "execution_count": null,
      "outputs": []
    },
    {
      "cell_type": "code",
      "metadata": {
        "id": "PQV6Bacsuu9u"
      },
      "source": [
        "crimes_rate"
      ],
      "execution_count": null,
      "outputs": []
    },
    {
      "cell_type": "code",
      "metadata": {
        "id": "NYFM1v2N9Y_u"
      },
      "source": [
        "crimes_rate.info()"
      ],
      "execution_count": null,
      "outputs": []
    },
    {
      "cell_type": "code",
      "metadata": {
        "id": "zJJ6GNP1C-zX"
      },
      "source": [
        "crimes_rate.columns"
      ],
      "execution_count": null,
      "outputs": []
    },
    {
      "cell_type": "code",
      "metadata": {
        "id": "aw0p5AMwD6s2"
      },
      "source": [
        "df= crimes_rate.drop(['ADDR_PCT_CD', 'RPT_DT', 'OFNS_DESC',\n",
        "       'PD_DESC', 'CRM_ATPT_CPTD_CD', 'LAW_CAT_CD', 'BORO_NM',\n",
        "       'LOC_OF_OCCUR_DESC', 'PREM_TYP_DESC', 'JURIS_DESC', 'JURISDICTION_CODE',\n",
        "       'PARKS_NM', 'HADEVELOPT', 'HOUSING_PSA', 'X_COORD_CD', 'Y_COORD_CD',\n",
        "       'Latitude', 'Longitude', 'Lat_Lon', 'PATROL_BORO'],  axis = 1)"
      ],
      "execution_count": null,
      "outputs": []
    },
    {
      "cell_type": "code",
      "metadata": {
        "id": "brEVnIvCPu7n"
      },
      "source": [
        "df.info()"
      ],
      "execution_count": null,
      "outputs": []
    },
    {
      "cell_type": "code",
      "metadata": {
        "id": "MAFlLuxEOiqW"
      },
      "source": [
        "df.describe()"
      ],
      "execution_count": null,
      "outputs": []
    },
    {
      "cell_type": "code",
      "metadata": {
        "id": "8B3yphz_wGfd"
      },
      "source": [
        "df.corr()"
      ],
      "execution_count": null,
      "outputs": []
    },
    {
      "cell_type": "code",
      "metadata": {
        "id": "T52odCFnK3IO"
      },
      "source": [
        "df['CMPLNT_FR_DT']= pd.to_datetime(df['CMPLNT_FR_DT'])"
      ],
      "execution_count": null,
      "outputs": []
    },
    {
      "cell_type": "code",
      "metadata": {
        "id": "6rgTkAAfW6qL"
      },
      "source": [
        "df.set_index('CMPLNT_FR_DT', inplace=True)\n",
        "\n",
        "df.resample('w').mean()"
      ],
      "execution_count": null,
      "outputs": []
    },
    {
      "cell_type": "code",
      "metadata": {
        "id": "6SrEvou_Vv-V"
      },
      "source": [
        "df.groupby(['CMPLNT_NUM', 'CMPLNT_FR_DT'])['STATION_NAME'].nunique().sort_values()"
      ],
      "execution_count": null,
      "outputs": []
    },
    {
      "cell_type": "code",
      "metadata": {
        "id": "YhGynXm0amQ6"
      },
      "source": [
        "crime_rate_daily = (df.groupby([\"CMPLNT_NUM\", \"CMPLNT_FR_DT\", \"KY_CD\", \"STATION_NAME\", \"PD_CD\"],as_index=False)\n",
        "                        .CMPLNT_NUM.first())"
      ],
      "execution_count": null,
      "outputs": []
    },
    {
      "cell_type": "code",
      "metadata": {
        "id": "0Unbdp-UbCH1"
      },
      "source": [
        "crime_rate_daily"
      ],
      "execution_count": null,
      "outputs": []
    },
    {
      "cell_type": "code",
      "metadata": {
        "id": "NLeWOT0de-bc"
      },
      "source": [
        "sum_crime= df.count()"
      ],
      "execution_count": null,
      "outputs": []
    },
    {
      "cell_type": "code",
      "metadata": {
        "id": "bUFVmPiTfQz3"
      },
      "source": [
        "sum_crime"
      ],
      "execution_count": null,
      "outputs": []
    },
    {
      "cell_type": "code",
      "metadata": {
        "id": "Cn5mZoVlfK-g"
      },
      "source": [
        "ff=df.sort_values(['KY_CD'],ascending=False).groupby('STATION_NAME').sum()"
      ],
      "execution_count": null,
      "outputs": []
    },
    {
      "cell_type": "code",
      "metadata": {
        "id": "ByhvGHTPN5UT"
      },
      "source": [
        "bf=(df.groupby([\"STATION_NAME\"])\n",
        " .CMPLNT_NUM.count()\n",
        " .reset_index()\n",
        " .sort_values(\"CMPLNT_NUM\", ascending=False)).head(10)"
      ],
      "execution_count": null,
      "outputs": []
    },
    {
      "cell_type": "code",
      "metadata": {
        "id": "oAfD8b2CP3qZ"
      },
      "source": [
        "bf"
      ],
      "execution_count": null,
      "outputs": []
    },
    {
      "cell_type": "code",
      "metadata": {
        "id": "8wSTBFHencfh"
      },
      "source": [
        "plt.figure(figsize=[8,5])\n",
        "ax = sns.barplot(data= bf.reset_index(), x='CMPLNT_NUM',y='STATION_NAME',palette=\"vlag\")\n",
        "plt.xlabel('Crime Rate',weight='bold',fontsize=15)\n",
        "plt.ylabel('Top Stations',weight='bold',fontsize=15)\n",
        "plt.title('Stations with High Crime Rate by NYPD', weight='bold', fontsize='20')\n",
        "sns.despine()\n",
        "plt.savefig('barplot.png',transparent=True, bbox_inches='tight')"
      ],
      "execution_count": null,
      "outputs": []
    },
    {
      "cell_type": "code",
      "metadata": {
        "id": "u_vu7X-pQ5w3"
      },
      "source": [
        "#Correlation between MTA Traffic and NYPD Crime rate"
      ],
      "execution_count": null,
      "outputs": []
    },
    {
      "cell_type": "code",
      "metadata": {
        "id": "3wrqgD2GxDQG"
      },
      "source": [
        "turnstiles_daily.describe()"
      ],
      "execution_count": null,
      "outputs": []
    },
    {
      "cell_type": "code",
      "metadata": {
        "id": "vundsGnFkEhf"
      },
      "source": [
        "df.describe()"
      ],
      "execution_count": null,
      "outputs": []
    },
    {
      "cell_type": "code",
      "metadata": {
        "id": "PCbmqP3R65T8"
      },
      "source": [
        "crimes_rate2= crimes_rate.fillna(bf.mean())"
      ],
      "execution_count": null,
      "outputs": []
    },
    {
      "cell_type": "code",
      "metadata": {
        "id": "UiAWEXDeIPw0"
      },
      "source": [
        "turnstiles_df2=turnstiles_df.fillna(bf.mean())"
      ],
      "execution_count": null,
      "outputs": []
    },
    {
      "cell_type": "code",
      "metadata": {
        "id": "6SoR8xh224gJ"
      },
      "source": [
        "both_data=pd.concat([station_totals,bf ])"
      ],
      "execution_count": null,
      "outputs": []
    },
    {
      "cell_type": "code",
      "metadata": {
        "id": "Vvs6q_dm4WRk"
      },
      "source": [
        "both_data.corr(method ='pearson')"
      ],
      "execution_count": null,
      "outputs": []
    },
    {
      "cell_type": "code",
      "metadata": {
        "id": "xVY66Kv9x7fW"
      },
      "source": [
        "import numpy as np\n",
        "from scipy.stats import spearmanr, pearsonr, kendalltau"
      ],
      "execution_count": null,
      "outputs": []
    },
    {
      "cell_type": "code",
      "metadata": {
        "id": "bZTtMofP_pmM"
      },
      "source": [
        "first_data = np.asarray(st)\n",
        "second_data = np.asarray(bf)"
      ],
      "execution_count": null,
      "outputs": []
    },
    {
      "cell_type": "code",
      "metadata": {
        "id": "WfehKJtvC9nc"
      },
      "source": [
        "n=len(st)"
      ],
      "execution_count": null,
      "outputs": []
    },
    {
      "cell_type": "code",
      "metadata": {
        "id": "T6FoqIdXC9g0"
      },
      "source": [
        "n"
      ],
      "execution_count": null,
      "outputs": []
    },
    {
      "cell_type": "code",
      "metadata": {
        "id": "CkK6gtg7DEh1"
      },
      "source": [
        "x=len(bf)"
      ],
      "execution_count": null,
      "outputs": []
    },
    {
      "cell_type": "code",
      "metadata": {
        "id": "Cw7etwbKDP09"
      },
      "source": [
        "x"
      ],
      "execution_count": null,
      "outputs": []
    },
    {
      "cell_type": "code",
      "metadata": {
        "id": "s3LJ_wBnCMUn"
      },
      "source": [
        "df.head()"
      ],
      "execution_count": null,
      "outputs": []
    },
    {
      "cell_type": "code",
      "metadata": {
        "id": "kG4pJDs_R0Wm"
      },
      "source": [
        ""
      ],
      "execution_count": null,
      "outputs": []
    }
  ]
}